{
 "cells": [
  {
   "cell_type": "markdown",
   "id": "6c967a2d-12d3-4ad8-8710-388a997eab74",
   "metadata": {},
   "source": [
    "# JSON\n",
    "\n",
    "## Autores\n",
    "\n",
    "| Nome | nUSP |\n",
    "| :--- | :--- |\n",
    "| Guilherme de Abreu Barreto | 12543033 |\n",
    "| Lucas Eduardo Gulka Pulcinelli | 12547336 |\n",
    "| Vinicio Yusuke Hayashibara | 13642797 |\n",
    "\n",
    "## Enunciado\n",
    "\n",
    "> Atualize a tabela Premiados, de maneira que o documento associado a cada Premiado possa indicar, além da categoria do Prêmio, também a\n",
    "especialidade de cada um, quando disponível. Use a tabela `Specialties.csv` disponibilizada no Tidia, em formato `.csv`, como a fonte de dados para essa atualização.\n",
    "> \n",
    "> Suponha que essa informação deve ser armazenada fora do documento Json. Faça atualização correspondente.\n",
    "\n",
    "## Resolução\n",
    "\n",
    "Nossa estratégia para encontrar e alterar as entradas da Tabela \"Premiados\" baseia-se no seguinte procedimento:\n",
    "\n",
    "1. Acessa-se o documento JSON na tabela \"Premiados\" e dela se extrai o id, o nome e sobrenome de todos os Laureados.\n",
    "\n",
    "2. Lê-se e o CSV e constrói-se um padrão regex que permite parear os nomes completos dos Laureados com os nomes dos mesmos descritos por iniciais. A partir deste se obtêm uma paridade de ids com especialidades.\n",
    "\n",
    "3. Acessa-se novamente o DB para atualizar a coluna \"_specialty_\" nas entradas de id correspondente.\n",
    "\n",
    "Foi fator motivante na escolha desta abordagem, com dois acessos ao banco de dados, a ausência de uma normalização consistente nos nomes encontrados no arquivo `Specialties.csv`; com variadas combinações de nomes completos e o uso de iniciais. Por isso julgamos por bem fazer um processamendo dos dados com o uso de Python entre os acessos. Ao final, com a estratégia adotada, fomos capazes de localizar e realizar **35** alterações no banco de dados.\n",
    "\n",
    "A seguir descrevemos todas as etapas de nossa resolução, incluindo as etapas preliminares de criação e população do banco de dados."
   ]
  },
  {
   "cell_type": "markdown",
   "id": "d15b51f4-3e2b-42bc-8672-ac67777399e2",
   "metadata": {},
   "source": [
    "### Configuração\n",
    "\n",
    "- DEFAULT_DATABASE e NOBEL_DATABASE: Respectivamente, o nome do database padrão e o nome do database onde serão carregadas as informações. Atente-se se este não corresponde ao nome de um database preexistente ou que esteja sendo acessado, pois este será então sobrescrito.\n",
    "\n",
    "- USER e PASSWORD: Informações de autententicação válidas e com privilégios para a criação de bancos de dados no servidor.\n",
    "\n",
    "- HOST e PORT: A URL e porta para realização do acesso ao servidor."
   ]
  },
  {
   "cell_type": "code",
   "execution_count": 1,
   "id": "c1e1fb3c-6177-4796-a604-60808c7c2e82",
   "metadata": {},
   "outputs": [],
   "source": [
    "DEFAULT_DATABASE = \"postgres\"\n",
    "NOBEL_DATABASE = \"nobel\"\n",
    "USER = \"postgres\"\n",
    "PASSWORD = \"postgres\"\n",
    "HOST = \"localhost\"\n",
    "PORT = 5432\n",
    "URI = f\"postgresql+psycopg2://{USER}:{PASSWORD}@{HOST}/\""
   ]
  },
  {
   "cell_type": "code",
   "execution_count": 2,
   "id": "c4515298-daf1-49b9-b0c1-47bb2f8c5e44",
   "metadata": {},
   "outputs": [],
   "source": [
    "### Carregamento das dependências"
   ]
  },
  {
   "cell_type": "code",
   "execution_count": 3,
   "id": "40416d5e-1d3e-4b68-8750-7320d04673f8",
   "metadata": {},
   "outputs": [],
   "source": [
    "import json\n",
    "import re\n",
    "import csv\n",
    "from sqlalchemy import (\n",
    "    Column,\n",
    "    Integer,\n",
    "    String,\n",
    "    create_engine,\n",
    "    func,\n",
    "    select,\n",
    "    update,\n",
    "    values,\n",
    "    text\n",
    ")\n",
    "from sqlalchemy.orm import (\n",
    "    Mapped,\n",
    "    Session,\n",
    "    declarative_base,\n",
    "    sessionmaker,\n",
    "    mapped_column as column,\n",
    ")\n",
    "from sqlalchemy.dialects.postgresql import JSONB\n",
    "from sqlalchemy.sql.expression import bindparam\n",
    "from typing import final"
   ]
  },
  {
   "cell_type": "code",
   "execution_count": 4,
   "id": "b98b104b-e676-4968-933b-4f31ce70ef8b",
   "metadata": {},
   "outputs": [],
   "source": [
    "### (Re)ciranção do banco de dados \"nobel\""
   ]
  },
  {
   "cell_type": "code",
   "execution_count": 5,
   "id": "d2a20c89-a712-4584-91e3-cb9b6f785048",
   "metadata": {},
   "outputs": [
    {
     "name": "stdout",
     "output_type": "stream",
     "text": [
      "2025-10-04 18:25:03,091 INFO sqlalchemy.engine.Engine select pg_catalog.version()\n",
      "2025-10-04 18:25:03,092 INFO sqlalchemy.engine.Engine [raw sql] {}\n",
      "2025-10-04 18:25:03,094 INFO sqlalchemy.engine.Engine select current_schema()\n",
      "2025-10-04 18:25:03,095 INFO sqlalchemy.engine.Engine [raw sql] {}\n",
      "2025-10-04 18:25:03,098 INFO sqlalchemy.engine.Engine show standard_conforming_strings\n",
      "2025-10-04 18:25:03,099 INFO sqlalchemy.engine.Engine [raw sql] {}\n",
      "2025-10-04 18:25:03,102 INFO sqlalchemy.engine.Engine BEGIN (implicit; DBAPI should not BEGIN due to autocommit mode)\n",
      "2025-10-04 18:25:03,103 INFO sqlalchemy.engine.Engine \n",
      "        SELECT pg_terminate_backend(pid)\n",
      "        FROM pg_stat_activity\n",
      "        WHERE datname = 'nobel';\n",
      "    \n",
      "2025-10-04 18:25:03,104 INFO sqlalchemy.engine.Engine [generated in 0.00253s] {}\n",
      "2025-10-04 18:25:03,108 INFO sqlalchemy.engine.Engine DROP DATABASE IF EXISTS nobel;\n",
      "2025-10-04 18:25:03,109 INFO sqlalchemy.engine.Engine [generated in 0.00098s] {}\n",
      "2025-10-04 18:25:03,142 INFO sqlalchemy.engine.Engine CREATE DATABASE nobel;\n",
      "2025-10-04 18:25:03,143 INFO sqlalchemy.engine.Engine [generated in 0.00100s] {}\n",
      "2025-10-04 18:25:03,194 INFO sqlalchemy.engine.Engine ROLLBACK using DBAPI connection.rollback(), DBAPI should ignore due to autocommit mode\n"
     ]
    }
   ],
   "source": [
    "engine = create_engine(URI + DEFAULT_DATABASE, echo=True)\n",
    "\n",
    "with engine.connect().execution_options(isolation_level=\"AUTOCOMMIT\") as conn:\n",
    "    terminate_sql = text(f\"\"\"\n",
    "        SELECT pg_terminate_backend(pid)\n",
    "        FROM pg_stat_activity\n",
    "        WHERE datname = '{NOBEL_DATABASE}';\n",
    "    \"\"\")\n",
    "    try:\n",
    "        conn.execute(terminate_sql)\n",
    "    except ProgrammingError as e:\n",
    "        print(f\"Could not terminate connections (this is often normal): {e}\")\n",
    "    conn.execute(text(f\"DROP DATABASE IF EXISTS {NOBEL_DATABASE};\"))\n",
    "    conn.execute(text(f\"CREATE DATABASE {NOBEL_DATABASE};\")) "
   ]
  },
  {
   "cell_type": "code",
   "execution_count": 6,
   "id": "c2b53fa7-07b9-4e31-a52f-e686ab0c0f16",
   "metadata": {},
   "outputs": [],
   "source": [
    "### Alteração do acesso ao banco de dados padrão para o banco de dados \"nobel\""
   ]
  },
  {
   "cell_type": "code",
   "execution_count": 7,
   "id": "90620735-e135-4cc8-9e7e-872d5ff9beff",
   "metadata": {},
   "outputs": [],
   "source": [
    "engine = create_engine(URI + NOBEL_DATABASE, echo=True)\n",
    "Session = sessionmaker(bind=engine)\n",
    "Base = declarative_base()"
   ]
  },
  {
   "cell_type": "markdown",
   "id": "11fb7c4e-00a7-4f8c-84a1-1a8f264e470e",
   "metadata": {},
   "source": [
    "### Criação das tabelas\n",
    "\n",
    "A seguir são definidas todas as tabelas a serem criadas no banco de dados _nobel_. Como se vê, todas as tabelas são baseadas em um mesmo esquema de tabela bastante simples, que contém somente um id serial como chave primária e uma coluna para armazenamendo de uma documento no formato JSONB. Apenas a tabela \"Premiados\" varia um pouco deste molde ao acrescentar a tabela \"specialty\", a qual popularemos com os dados extraído do arquivo CSV de referência."
   ]
  },
  {
   "cell_type": "code",
   "execution_count": 8,
   "id": "07269fa2-9136-49c5-a0ba-d2799a920ee9",
   "metadata": {},
   "outputs": [
    {
     "name": "stdout",
     "output_type": "stream",
     "text": [
      "2025-10-04 18:25:03,243 INFO sqlalchemy.engine.Engine select pg_catalog.version()\n",
      "2025-10-04 18:25:03,243 INFO sqlalchemy.engine.Engine [raw sql] {}\n",
      "2025-10-04 18:25:03,245 INFO sqlalchemy.engine.Engine select current_schema()\n",
      "2025-10-04 18:25:03,246 INFO sqlalchemy.engine.Engine [raw sql] {}\n",
      "2025-10-04 18:25:03,248 INFO sqlalchemy.engine.Engine show standard_conforming_strings\n",
      "2025-10-04 18:25:03,249 INFO sqlalchemy.engine.Engine [raw sql] {}\n",
      "2025-10-04 18:25:03,251 INFO sqlalchemy.engine.Engine BEGIN (implicit)\n",
      "2025-10-04 18:25:03,258 INFO sqlalchemy.engine.Engine SELECT pg_catalog.pg_class.relname \n",
      "FROM pg_catalog.pg_class JOIN pg_catalog.pg_namespace ON pg_catalog.pg_namespace.oid = pg_catalog.pg_class.relnamespace \n",
      "WHERE pg_catalog.pg_class.relname = %(table_name)s AND pg_catalog.pg_class.relkind = ANY (ARRAY[%(param_1)s, %(param_2)s, %(param_3)s, %(param_4)s, %(param_5)s]) AND pg_catalog.pg_table_is_visible(pg_catalog.pg_class.oid) AND pg_catalog.pg_namespace.nspname != %(nspname_1)s\n",
      "2025-10-04 18:25:03,259 INFO sqlalchemy.engine.Engine [generated in 0.00107s] {'table_name': 'Premiados', 'param_1': 'r', 'param_2': 'p', 'param_3': 'f', 'param_4': 'v', 'param_5': 'm', 'nspname_1': 'pg_catalog'}\n",
      "2025-10-04 18:25:03,263 INFO sqlalchemy.engine.Engine SELECT pg_catalog.pg_class.relname \n",
      "FROM pg_catalog.pg_class JOIN pg_catalog.pg_namespace ON pg_catalog.pg_namespace.oid = pg_catalog.pg_class.relnamespace \n",
      "WHERE pg_catalog.pg_class.relname = %(table_name)s AND pg_catalog.pg_class.relkind = ANY (ARRAY[%(param_1)s, %(param_2)s, %(param_3)s, %(param_4)s, %(param_5)s]) AND pg_catalog.pg_table_is_visible(pg_catalog.pg_class.oid) AND pg_catalog.pg_namespace.nspname != %(nspname_1)s\n",
      "2025-10-04 18:25:03,263 INFO sqlalchemy.engine.Engine [cached since 0.005565s ago] {'table_name': 'Premios', 'param_1': 'r', 'param_2': 'p', 'param_3': 'f', 'param_4': 'v', 'param_5': 'm', 'nspname_1': 'pg_catalog'}\n",
      "2025-10-04 18:25:03,265 INFO sqlalchemy.engine.Engine SELECT pg_catalog.pg_class.relname \n",
      "FROM pg_catalog.pg_class JOIN pg_catalog.pg_namespace ON pg_catalog.pg_namespace.oid = pg_catalog.pg_class.relnamespace \n",
      "WHERE pg_catalog.pg_class.relname = %(table_name)s AND pg_catalog.pg_class.relkind = ANY (ARRAY[%(param_1)s, %(param_2)s, %(param_3)s, %(param_4)s, %(param_5)s]) AND pg_catalog.pg_table_is_visible(pg_catalog.pg_class.oid) AND pg_catalog.pg_namespace.nspname != %(nspname_1)s\n",
      "2025-10-04 18:25:03,266 INFO sqlalchemy.engine.Engine [cached since 0.008365s ago] {'table_name': 'Paises', 'param_1': 'r', 'param_2': 'p', 'param_3': 'f', 'param_4': 'v', 'param_5': 'm', 'nspname_1': 'pg_catalog'}\n",
      "2025-10-04 18:25:03,269 INFO sqlalchemy.engine.Engine \n",
      "CREATE TABLE \"Premiados\" (\n",
      "\tspecialty VARCHAR, \n",
      "\tid SERIAL NOT NULL, \n",
      "\tdocument JSONB NOT NULL, \n",
      "\tPRIMARY KEY (id)\n",
      ")\n",
      "\n",
      "\n",
      "2025-10-04 18:25:03,270 INFO sqlalchemy.engine.Engine [no key 0.00091s] {}\n",
      "2025-10-04 18:25:03,280 INFO sqlalchemy.engine.Engine \n",
      "CREATE TABLE \"Premios\" (\n",
      "\tid SERIAL NOT NULL, \n",
      "\tdocument JSONB NOT NULL, \n",
      "\tPRIMARY KEY (id)\n",
      ")\n",
      "\n",
      "\n",
      "2025-10-04 18:25:03,280 INFO sqlalchemy.engine.Engine [no key 0.00074s] {}\n",
      "2025-10-04 18:25:03,291 INFO sqlalchemy.engine.Engine \n",
      "CREATE TABLE \"Paises\" (\n",
      "\tid SERIAL NOT NULL, \n",
      "\tdocument JSONB NOT NULL, \n",
      "\tPRIMARY KEY (id)\n",
      ")\n",
      "\n",
      "\n",
      "2025-10-04 18:25:03,291 INFO sqlalchemy.engine.Engine [no key 0.00073s] {}\n",
      "2025-10-04 18:25:03,301 INFO sqlalchemy.engine.Engine COMMIT\n"
     ]
    }
   ],
   "source": [
    "class DocumentTable(Base):\n",
    "    __abstract__: bool = True\n",
    "    id: Mapped[int] = column(primary_key=True, autoincrement=True)\n",
    "    document: Mapped[dict] = column(JSONB)\n",
    "\n",
    "\n",
    "@final\n",
    "class Premiado(DocumentTable):\n",
    "    __tablename__ = \"Premiados\"\n",
    "    specialty: Mapped[str | None]\n",
    "\n",
    "\n",
    "@final\n",
    "class Premio(DocumentTable):\n",
    "    __tablename__ = \"Premios\"\n",
    "\n",
    "\n",
    "@final\n",
    "class Pais(DocumentTable):\n",
    "    __tablename__ = \"Paises\"\n",
    "\n",
    "Base.metadata.create_all(engine)"
   ]
  },
  {
   "cell_type": "markdown",
   "id": "cf9cbb70-604e-43ae-a7bc-97fd97b551e3",
   "metadata": {},
   "source": [
    "### População das tabelas\n",
    "\n",
    "Em seguida populamos as tabelas com os dados encontrados nos arquivos JSON de referência.\n",
    "\n",
    "#### Importante\n",
    "\n",
    "Note como os arquivos de referência utilziados na execução desta notebook encontram-se todos presentes em uma pasta `datasets` localizada no mesmo diretório que o notebook sendo executado."
   ]
  },
  {
   "cell_type": "code",
   "execution_count": 9,
   "id": "119972c7-876c-45df-bb07-25f845be488e",
   "metadata": {
    "scrolled": true
   },
   "outputs": [
    {
     "name": "stdout",
     "output_type": "stream",
     "text": [
      "2025-10-04 18:25:03,372 INFO sqlalchemy.engine.Engine BEGIN (implicit)\n",
      "2025-10-04 18:25:03,377 INFO sqlalchemy.engine.Engine INSERT INTO \"Paises\" (document) SELECT p0::JSONB FROM (VALUES (%(document__0)s::JSONB, 0), (%(document__1)s::JSONB, 1), (%(document__2)s::JSONB, 2), (%(document__3)s::JSONB, 3), (%(document__4)s::JSONB, 4), (%(document__5)s::JSONB, 5), (%(document__6 ... 4105 characters truncated ... , 136)) AS imp_sen(p0, sen_counter) ORDER BY sen_counter RETURNING \"Paises\".id, \"Paises\".id AS id__1\n",
      "2025-10-04 18:25:03,378 INFO sqlalchemy.engine.Engine [generated in 0.00099s (insertmanyvalues) 1/1 (ordered)] {'document__0': '{\"name\": \"Algeria\", \"code\": \"DZ\"}', 'document__1': '{\"name\": \"Argentina\", \"code\": \"AR\"}', 'document__2': '{\"name\": \"Australia\", \"code\": \"AU\"}', 'document__3': '{\"name\": \"Austria\", \"code\": \"AT\"}', 'document__4': '{\"name\": \"Austria-Hungary\"}', 'document__5': '{\"name\": \"Austrian Empire\"}', 'document__6': '{\"name\": \"Azerbaijan\", \"code\": \"AZ\"}', 'document__7': '{\"name\": \"Bangladesh\", \"code\": \"BD\"}', 'document__8': '{\"name\": \"Barbados\", \"code\": \"BB\"}', 'document__9': '{\"name\": \"Bavaria\", \"code\": \"DE\"}', 'document__10': '{\"name\": \"Belarus\", \"code\": \"BY\"}', 'document__11': '{\"name\": \"Belgian Congo\", \"code\": \"CD\"}', 'document__12': '{\"name\": \"Belgium\", \"code\": \"BE\"}', 'document__13': '{\"name\": \"Bosnia\", \"code\": \"BA\"}', 'document__14': '{\"name\": \"Bosnia and Herzegovina\", \"code\": \"BA\"}', 'document__15': '{\"name\": \"Brazil\", \"code\": \"BR\"}', 'document__16': '{\"name\": \"British India\", \"code\": \"IN\"}', 'document__17': '{\"name\": \"British Mandate of Palestine\", \"code\": \"IL\"}', 'document__18': '{\"name\": \"British Protectorate of Palestine\", \"code\": \"IL\"}', 'document__19': '{\"name\": \"British West Indies\", \"code\": \"LC\"}', 'document__20': '{\"name\": \"Bulgaria\", \"code\": \"BG\"}', 'document__21': '{\"name\": \"Burma\", \"code\": \"MM\"}', 'document__22': '{\"name\": \"Canada\", \"code\": \"CA\"}', 'document__23': '{\"name\": \"Chile\", \"code\": \"CL\"}', 'document__24': '{\"name\": \"China\", \"code\": \"CN\"}', 'document__25': '{\"name\": \"Colombia\", \"code\": \"CO\"}', 'document__26': '{\"name\": \"Costa Rica\", \"code\": \"CR\"}', 'document__27': '{\"name\": \"Crete\", \"code\": \"GR\"}', 'document__28': '{\"name\": \"Croatia\", \"code\": \"HR\"}', 'document__29': '{\"name\": \"Cyprus\", \"code\": \"CY\"}', 'document__30': '{\"name\": \"Czech Republic\", \"code\": \"CZ\"}', 'document__31': '{\"name\": \"Czechoslovakia\", \"code\": \"CZ\"}', 'document__32': '{\"name\": \"Democratic Republic of the Congo\", \"code\": \"CD\"}', 'document__33': '{\"name\": \"Democratic Republic of Vietnam\", \"code\": \"VN\"}', 'document__34': '{\"name\": \"Denmark\", \"code\": \"DK\"}', 'document__35': '{\"name\": \"East Friesland\", \"code\": \"DE\"}', 'document__36': '{\"name\": \"East Germany\", \"code\": \"DE\"}', 'document__37': '{\"name\": \"East Timor\", \"code\": \"TL\"}', 'document__38': '{\"name\": \"Egypt\", \"code\": \"EG\"}', 'document__39': '{\"name\": \"Ethiopia\", \"code\": \"ET\"}', 'document__40': '{\"name\": \"Faroe Islands (Denmark)\", \"code\": \"DK\"}', 'document__41': '{\"name\": \"Finland\", \"code\": \"FI\"}', 'document__42': '{\"name\": \"France\", \"code\": \"FR\"}', 'document__43': '{\"name\": \"Free City of Danzig\", \"code\": \"PL\"}', 'document__44': '{\"name\": \"French Algeria\", \"code\": \"DZ\"}', 'document__45': '{\"name\": \"French protectorate of Tunisia\", \"code\": \"TN\"}', 'document__46': '{\"name\": \"Gabon\", \"code\": \"GA\"}', 'document__47': '{\"name\": \"German-occupied Poland\", \"code\": \"PL\"}', 'document__48': '{\"name\": \"Germany\", \"code\": \"DE\"}', 'document__49': '{\"name\": \"Ghana\", \"code\": \"GH\"}' ... 37 parameters truncated ... 'document__87': '{\"name\": \"Norway\", \"code\": \"NO\"}', 'document__88': '{\"name\": \"Ottoman Empire\", \"code\": \"TR\"}', 'document__89': '{\"name\": \"Pakistan\", \"code\": \"PK\"}', 'document__90': '{\"name\": \"Palestine\", \"code\": \"US\"}', 'document__91': '{\"name\": \"Persia\", \"code\": \"IR\"}', 'document__92': '{\"name\": \"Peru\", \"code\": \"PE\"}', 'document__93': '{\"name\": \"Philippines\", \"code\": \"PH\"}', 'document__94': '{\"name\": \"Poland\", \"code\": \"PL\"}', 'document__95': '{\"name\": \"Poland, Russian Empire\", \"code\": \"PL\"}', 'document__96': '{\"name\": \"Portugal\", \"code\": \"PT\"}', 'document__97': '{\"name\": \"Prussia\", \"code\": \"PL\"}', 'document__98': '{\"name\": \"Puerto Rico\", \"code\": \"PR\"}', 'document__99': '{\"name\": \"Republic of Macedonia\", \"code\": \"MK\"}', 'document__100': '{\"name\": \"Romania\", \"code\": \"RO\"}', 'document__101': '{\"name\": \"Russia\", \"code\": \"RU\"}', 'document__102': '{\"name\": \"Russia, Soviet Union\", \"code\": \"RU\"}', 'document__103': '{\"name\": \"Russian Empire\", \"code\": \"AZ\"}', 'document__104': '{\"name\": \"Saint Lucia\", \"code\": \"LC\"}', 'document__105': '{\"name\": \"Schleswig\", \"code\": \"DE\"}', 'document__106': '{\"name\": \"Scotland\", \"code\": \"GB\"}', 'document__107': '{\"name\": \"Serbia\", \"code\": \"RS\"}', 'document__108': '{\"name\": \"Singapore\", \"code\": \"SG\"}', 'document__109': '{\"name\": \"Slovakia\", \"code\": \"SK\"}', 'document__110': '{\"name\": \"Slovenia\", \"code\": \"SI\"}', 'document__111': '{\"name\": \"South Africa\", \"code\": \"ZA\"}', 'document__112': '{\"name\": \"South Korea\", \"code\": \"KR\"}', 'document__113': '{\"name\": \"Southern Rhodesia\", \"code\": \"ZW\"}', 'document__114': '{\"name\": \"Spain\", \"code\": \"ES\"}', 'document__115': '{\"name\": \"Sweden\", \"code\": \"SE\"}', 'document__116': '{\"name\": \"Switzerland\", \"code\": \"CH\"}', 'document__117': '{\"name\": \"Taiwan\", \"code\": \"TW\"}', 'document__118': '{\"name\": \"the Netherlands\", \"code\": \"NL\"}', 'document__119': '{\"name\": \"Tibet\", \"code\": \"CN\"}', 'document__120': '{\"name\": \"Trinidad and Tobago\", \"code\": \"TT\"}', 'document__121': '{\"name\": \"Tunisia\", \"code\": \"TN\"}', 'document__122': '{\"name\": \"Turkey\", \"code\": \"TR\"}', 'document__123': '{\"name\": \"Tuscany\", \"code\": \"IT\"}', 'document__124': '{\"name\": \"Ukraine\", \"code\": \"UA\"}', 'document__125': '{\"name\": \"Union of South Africa\", \"code\": \"ZA\"}', 'document__126': '{\"name\": \"United Kingdom\", \"code\": \"GB\"}', 'document__127': '{\"name\": \"USA\", \"code\": \"US\"}', 'document__128': '{\"name\": \"USSR\", \"code\": \"RU\"}', 'document__129': '{\"name\": \"Venezuela\", \"code\": \"VE\"}', 'document__130': '{\"name\": \"Vietnam\", \"code\": \"VN\"}', 'document__131': '{\"name\": \"West Germany\", \"code\": \"DE\"}', 'document__132': '{\"name\": \"W\\\\u00fcrttemberg\", \"code\": \"DE\"}', 'document__133': '{\"name\": \"Yemen\", \"code\": \"YE\"}', 'document__134': '{\"name\": \"Yugoslavia\", \"code\": \"YU\"}', 'document__135': '{\"name\": \"Zambia\", \"code\": \"ZM\"}', 'document__136': '{\"name\": \"Zimbabwe\", \"code\": \"ZW\"}'}\n",
      "2025-10-04 18:25:03,450 INFO sqlalchemy.engine.Engine INSERT INTO \"Premiados\" (specialty, document) SELECT p0::VARCHAR, p1::JSONB FROM (VALUES (%(specialty__0)s, %(document__0)s::JSONB, 0), (%(specialty__1)s, %(document__1)s::JSONB, 1), (%(specialty__2)s, %(document__2)s::JSONB, 2), (%(specialty__3)s, % ... 52511 characters truncated ...  imp_sen(p0, p1, sen_counter) ORDER BY sen_counter RETURNING \"Premiados\".id, \"Premiados\".id AS id__1\n",
      "2025-10-04 18:25:03,451 INFO sqlalchemy.engine.Engine [generated in 0.01268s (insertmanyvalues) 1/2 (ordered)] {'document__0': '{\"id\": \"1\", \"firstname\": \"Wilhelm Conrad\", \"surname\": \"R\\\\u00f6ntgen\", \"born\": \"1845-03-27\", \"died\": \"1923-02-10\", \"bornCountry\": \"Prussia (now Germa ... (319 characters truncated) ... y of the remarkable rays subsequently named after him\\\\\"\", \"affiliations\": [{\"name\": \"Munich University\", \"city\": \"Munich\", \"country\": \"Germany\"}]}]}', 'specialty__0': None, 'document__1': '{\"id\": \"2\", \"firstname\": \"Hendrik A.\", \"surname\": \"Lorentz\", \"born\": \"1853-07-18\", \"died\": \"1928-02-04\", \"bornCountry\": \"the Netherlands\", \"bornCount ... (286 characters truncated) ... fluence of magnetism upon radiation phenomena\\\\\"\", \"affiliations\": [{\"name\": \"Leiden University\", \"city\": \"Leiden\", \"country\": \"the Netherlands\"}]}]}', 'specialty__1': None, 'document__2': '{\"id\": \"3\", \"firstname\": \"Pieter\", \"surname\": \"Zeeman\", \"born\": \"1865-05-25\", \"died\": \"1943-10-09\", \"bornCountry\": \"the Netherlands\", \"bornCountryCod ... (316 characters truncated) ... e of magnetism upon radiation phenomena\\\\\"\", \"affiliations\": [{\"name\": \"Amsterdam University\", \"city\": \"Amsterdam\", \"country\": \"the Netherlands\"}]}]}', 'specialty__2': None, 'document__3': '{\"id\": \"4\", \"firstname\": \"Henri\", \"surname\": \"Becquerel\", \"born\": \"1852-12-15\", \"died\": \"1908-08-25\", \"bornCountry\": \"France\", \"bornCountryCode\": \"FR ... (234 characters truncated) ... d by his discovery of spontaneous radioactivity\\\\\"\", \"affiliations\": [{\"name\": \"\\\\u00c9cole Polytechnique\", \"city\": \"Paris\", \"country\": \"France\"}]}]}', 'specialty__3': None, 'document__4': '{\"id\": \"5\", \"firstname\": \"Pierre\", \"surname\": \"Curie\", \"born\": \"1859-05-15\", \"died\": \"1906-04-19\", \"bornCountry\": \"France\", \"bornCountryCode\": \"FR\",  ... (393 characters truncated) ...  municipale de physique et de chimie industrielles (Municipal School of Industrial Physics and Chemistry)\", \"city\": \"Paris\", \"country\": \"France\"}]}]}', 'specialty__4': None, 'document__5': '{\"id\": \"6\", \"firstname\": \"Marie\", \"surname\": \"Curie\", \"born\": \"1867-11-07\", \"died\": \"1934-07-04\", \"bornCountry\": \"Russian Empire (now Poland)\", \"born ... (639 characters truncated) ... f the nature and compounds of this remarkable element\\\\\"\", \"affiliations\": [{\"name\": \"Sorbonne University\", \"city\": \"Paris\", \"country\": \"France\"}]}]}', 'specialty__5': None, 'document__6': '{\"id\": \"8\", \"firstname\": \"Lord\", \"surname\": \"Rayleigh\", \"born\": \"1842-11-12\", \"died\": \"1919-06-30\", \"bornCountry\": \"United Kingdom\", \"bornCountryCode ... (315 characters truncated) ... connection with these studies\\\\\"\", \"affiliations\": [{\"name\": \"Royal Institution of Great Britain\", \"city\": \"London\", \"country\": \"United Kingdom\"}]}]}', 'specialty__6': None, 'document__7': '{\"id\": \"9\", \"firstname\": \"Philipp\", \"surname\": \"Lenard\", \"born\": \"1862-06-07\", \"died\": \"1947-05-20\", \"bornCountry\": \"Hungary (now Slovakia)\", \"bornCo ... (211 characters truncated) ... are\": \"1\", \"motivation\": \"\\\\\"for his work on cathode rays\\\\\"\", \"affiliations\": [{\"name\": \"Kiel University\", \"city\": \"Kiel\", \"country\": \"Germany\"}]}]}', 'specialty__7': None, 'document__8': '{\"id\": \"10\", \"firstname\": \"J.J.\", \"surname\": \"Thomson\", \"born\": \"1856-12-18\", \"died\": \"1940-08-30\", \"bornCountry\": \"United Kingdom\", \"bornCountryCode ... (312 characters truncated) ... he conduction of electricity by gases\\\\\"\", \"affiliations\": [{\"name\": \"University of Cambridge\", \"city\": \"Cambridge\", \"country\": \"United Kingdom\"}]}]}', 'specialty__8': None, 'document__9': '{\"id\": \"11\", \"firstname\": \"Albert A.\", \"surname\": \"Michelson\", \"born\": \"1852-12-19\", \"died\": \"1931-05-09\", \"bornCountry\": \"Prussia (now Poland)\", \"bo ... (306 characters truncated) ... ogical investigations carried out with their aid\\\\\"\", \"affiliations\": [{\"name\": \"University of Chicago\", \"city\": \"Chicago, IL\", \"country\": \"USA\"}]}]}', 'specialty__9': None, 'document__10': '{\"id\": \"12\", \"firstname\": \"Gabriel\", \"surname\": \"Lippmann\", \"born\": \"1845-08-16\", \"died\": \"1921-07-13\", \"bornCountry\": \"Luxembourg\", \"bornCountryCode ... (176 characters truncated) ... tographically based on the phenomenon of interference\\\\\"\", \"affiliations\": [{\"name\": \"Sorbonne University\", \"city\": \"Paris\", \"country\": \"France\"}]}]}', 'specialty__10': None, 'document__11': '{\"id\": \"13\", \"firstname\": \"Guglielmo\", \"surname\": \"Marconi\", \"born\": \"1874-04-25\", \"died\": \"1937-07-20\", \"bornCountry\": \"Italy\", \"bornCountryCode\": \" ... (249 characters truncated) ... pment of wireless telegraphy\\\\\"\", \"affiliations\": [{\"name\": \"Marconi Wireless Telegraph Co. Ltd.\", \"city\": \"London\", \"country\": \"United Kingdom\"}]}]}', 'specialty__11': None, 'document__12': '{\"id\": \"14\", \"firstname\": \"Ferdinand\", \"surname\": \"Braun\", \"born\": \"1850-06-06\", \"died\": \"1918-04-20\", \"bornCountry\": \"Hesse-Kassel (now Germany)\", \" ... (268 characters truncated) ... velopment of wireless telegraphy\\\\\"\", \"affiliations\": [{\"name\": \"Strasbourg University\", \"city\": \"Strasbourg\", \"country\": \"Germany (now France)\"}]}]}', 'specialty__12': None, 'document__13': '{\"id\": \"15\", \"firstname\": \"Johannes Diderik\", \"surname\": \"van der Waals\", \"born\": \"1837-11-23\", \"died\": \"1923-03-08\", \"bornCountry\": \"the Netherlands ... (255 characters truncated) ... equation of state for gases and liquids\\\\\"\", \"affiliations\": [{\"name\": \"Amsterdam University\", \"city\": \"Amsterdam\", \"country\": \"the Netherlands\"}]}]}', 'specialty__13': None, 'document__14': '{\"id\": \"16\", \"firstname\": \"Wilhelm\", \"surname\": \"Wien\", \"born\": \"1864-01-13\", \"died\": \"1928-08-30\", \"bornCountry\": \"Prussia (now Russia)\", \"bornCount ... (261 characters truncated) ...  laws governing the radiation of heat\\\\\"\", \"affiliations\": [{\"name\": \"W\\\\u00fcrzburg University\", \"city\": \"W\\\\u00fcrzburg\", \"country\": \"Germany\"}]}]}', 'specialty__14': None, 'document__15': '{\"id\": \"17\", \"firstname\": \"Gustaf\", \"surname\": \"Dal\\\\u00e9n\", \"born\": \"1869-11-30\", \"died\": \"1937-12-09\", \"bornCountry\": \"Sweden\", \"bornCountryCode\": ... (307 characters truncated) ... ting lighthouses and buoys\\\\\"\", \"affiliations\": [{\"name\": \"Swedish Gas-Accumulator Co.\", \"city\": \"Liding\\\\u00f6, Stockholm\", \"country\": \"Sweden\"}]}]}', 'specialty__15': None, 'document__16': '{\"id\": \"18\", \"firstname\": \"Heike\", \"surname\": \"Kamerlingh Onnes\", \"born\": \"1853-09-21\", \"died\": \"1926-02-21\", \"bornCountry\": \"the Netherlands\", \"born ... (310 characters truncated) ... nter alia, to the production of liquid helium\\\\\"\", \"affiliations\": [{\"name\": \"Leiden University\", \"city\": \"Leiden\", \"country\": \"the Netherlands\"}]}]}', 'specialty__16': None, 'document__17': '{\"id\": \"19\", \"firstname\": \"Max\", \"surname\": \"von Laue\", \"born\": \"1879-10-09\", \"died\": \"1960-04-23\", \"bornCountry\": \"Germany\", \"bornCountryCode\": \"DE\" ... (257 characters truncated) ... n of X-rays by crystals\\\\\"\", \"affiliations\": [{\"name\": \"Frankfurt-on-the-Main University\", \"city\": \"Frankfurt-on-the-Main\", \"country\": \"Germany\"}]}]}', 'specialty__17': None, 'document__18': '{\"id\": \"20\", \"firstname\": \"William\", \"surname\": \"Bragg\", \"born\": \"1862-07-02\", \"died\": \"1942-03-12\", \"bornCountry\": \"United Kingdom\", \"bornCountryCod ... (242 characters truncated) ... lysis of crystal structure by means of X-rays\\\\\"\", \"affiliations\": [{\"name\": \"University College\", \"city\": \"London\", \"country\": \"United Kingdom\"}]}]}', 'specialty__18': None, 'document__19': '{\"id\": \"21\", \"firstname\": \"Lawrence\", \"surname\": \"Bragg\", \"born\": \"1890-03-31\", \"died\": \"1971-07-01\", \"bornCountry\": \"Australia\", \"bornCountryCode\":  ... (246 characters truncated) ...  of crystal structure by means of X-rays\\\\\"\", \"affiliations\": [{\"name\": \"Victoria University\", \"city\": \"Manchester\", \"country\": \"United Kingdom\"}]}]}', 'specialty__19': None, 'document__20': '{\"id\": \"22\", \"firstname\": \"Charles Glover\", \"surname\": \"Barkla\", \"born\": \"1877-06-07\", \"died\": \"1944-10-23\", \"bornCountry\": \"United Kingdom\", \"bornCo ... (256 characters truncated) ... c R&ouml;ntgen radiation of the elements\\\\\"\", \"affiliations\": [{\"name\": \"Edinburgh University\", \"city\": \"Edinburgh\", \"country\": \"United Kingdom\"}]}]}', 'specialty__20': None, 'document__21': '{\"id\": \"23\", \"firstname\": \"Max\", \"surname\": \"Planck\", \"born\": \"1858-04-23\", \"died\": \"1947-10-04\", \"bornCountry\": \"Schleswig (now Germany)\", \"bornCoun ... (291 characters truncated) ... ancement of Physics by his discovery of energy quanta\\\\\"\", \"affiliations\": [{\"name\": \"Berlin University\", \"city\": \"Berlin\", \"country\": \"Germany\"}]}]}', 'specialty__21': None, 'document__22': '{\"id\": \"24\", \"firstname\": \"Johannes\", \"surname\": \"Stark\", \"born\": \"1874-04-15\", \"died\": \"1957-06-21\", \"bornCountry\": \"Germany\", \"bornCountryCode\": \"D ... (291 characters truncated) ... plitting of spectral lines in electric fields\\\\\"\", \"affiliations\": [{\"name\": \"Greifswald University\", \"city\": \"Greifswald\", \"country\": \"Germany\"}]}]}', 'specialty__22': None, 'document__23': '{\"id\": \"25\", \"firstname\": \"Charles Edouard\", \"surname\": \"Guillaume\", \"born\": \"1861-02-15\", \"died\": \"1938-06-13\", \"bornCountry\": \"Switzerland\", \"bornC ... (380 characters truncated) ... {\"name\": \"Bureau International des Poids et Mesures (International Bureau of Weights and Measures)\", \"city\": \"S\\\\u00e8vres\", \"country\": \"France\"}]}]}', 'specialty__23': None, 'document__24': '{\"id\": \"26\", \"firstname\": \"Albert\", \"surname\": \"Einstein\", \"born\": \"1879-03-14\", \"died\": \"1955-04-18\", \"bornCountry\": \"Germany\", \"bornCountryCode\": \" ... (309 characters truncated) ... fect\\\\\"\", \"affiliations\": [{\"name\": \"Kaiser-Wilhelm-Institut (now Max-Planck-Institut) f\\\\u00fcr Physik\", \"city\": \"Berlin\", \"country\": \"Germany\"}]}]}', 'specialty__24': None ... 1900 parameters truncated ... 'document__975': '{\"id\": \"1018\", \"firstname\": \"Ales\", \"surname\": \"Bialiatski \", \"born\": \"1962-09-25\", \"died\": \"0000-00-00\", \"bornCountry\": \"Russia\", \"bornCountryCode\": ... (395 characters truncated) ... ight abuses and the abuse of power. Together they demonstrate the significance of civil society for peace and democracy.\\\\\"\", \"affiliations\": [[]]}]}', 'specialty__975': None, 'document__976': '{\"id\": \"1019\", \"firstname\": \"Memorial\", \"born\": \"1987-00-00\", \"died\": \"0000-00-00\", \"gender\": \"org\", \"prizes\": [{\"year\": \"2022\", \"category\": \"peace\", ... (287 characters truncated) ... ight abuses and the abuse of power. Together they demonstrate the significance of civil society for peace and democracy.\\\\\"\", \"affiliations\": [[]]}]}', 'specialty__976': None, 'document__977': '{\"id\": \"1020\", \"firstname\": \"Center for Civil Liberties\", \"born\": \"2007-00-00\", \"died\": \"0000-00-00\", \"gender\": \"org\", \"prizes\": [{\"year\": \"2022\", \"c ... (305 characters truncated) ... ight abuses and the abuse of power. Together they demonstrate the significance of civil society for peace and democracy.\\\\\"\", \"affiliations\": [[]]}]}', 'specialty__977': None, 'document__978': '{\"id\": \"1021\", \"firstname\": \"Ben\", \"surname\": \"Bernanke\", \"born\": \"1953-12-13\", \"died\": \"0000-00-00\", \"bornCountry\": \"USA\", \"bornCountryCode\": \"US\",  ... (133 characters truncated) ...  research on banks and financial crises\\\\\"\", \"affiliations\": [{\"name\": \"The Brookings Institution\", \"city\": \"Washington, D.C.\", \"country\": \"USA\"}]}]}', 'specialty__978': None, 'document__979': '{\"id\": \"1022\", \"firstname\": \"Douglas\", \"surname\": \"Diamond\", \"born\": \"1953-10-25\", \"died\": \"0000-00-00\", \"bornCountry\": \"USA\", \"bornCountryCode\": \"US ... (127 characters truncated) ... : \"\\\\\"for research on banks and financial crises\\\\\"\", \"affiliations\": [{\"name\": \"University of Chicago\", \"city\": \"Chicago, IL\", \"country\": \"USA\"}]}]}', 'specialty__979': None, 'document__980': '{\"id\": \"1023\", \"firstname\": \"Philip\", \"surname\": \"Dybvig\", \"born\": \"1955-05-22\", \"died\": \"0000-00-00\", \"bornCountry\": \"USA\", \"bornCountryCode\": \"US\", ... (131 characters truncated) ... \"\\\\\"for research on banks and financial crises\\\\\"\", \"affiliations\": [{\"name\": \"Washington University\", \"city\": \"St. Louis, MO\", \"country\": \"USA\"}]}]}', 'specialty__980': None, 'document__981': '{\"id\": \"1024\", \"firstname\": \"Katalin\", \"surname\": \"Karik\\\\u00f3\", \"born\": \"1955-01-17\", \"died\": \"0000-00-00\", \"bornCountry\": \"Hungary\", \"bornCountryC ... (307 characters truncated) ... Szeged University\", \"city\": \"Szeged\", \"country\": \"Hungary\"}, {\"name\": \"University of Pennsylvania\", \"city\": \"Philadelphia, PA\", \"country\": \"USA\"}]}]}', 'specialty__981': None, 'document__982': '{\"id\": \"1025\", \"firstname\": \"Drew\", \"surname\": \"Weissman\", \"born\": \"1959-09-07\", \"died\": \"0000-00-00\", \"bornCountry\": \"USA\", \"bornCountryCode\": \"US\", ... (265 characters truncated) ... 19\\\\\"\", \"affiliations\": [{\"name\": \"Penn Institute for RNA Innovations, University of Pennsylvania\", \"city\": \"Philadelphia, PA\", \"country\": \"USA\"}]}]}', 'specialty__982': None, 'document__983': '{\"id\": \"1026\", \"firstname\": \"Pierre\", \"surname\": \"Agostini\", \"born\": \"1941-07-23\", \"died\": \"0000-00-00\", \"bornCountry\": \"French protectorate of Tunis ... (233 characters truncated) ... or the study of electron dynamics in matter\\\\\"\", \"affiliations\": [{\"name\": \"The Ohio State University\", \"city\": \"Columbus, OH\", \"country\": \"USA\"}]}]}', 'specialty__983': None, 'document__984': '{\"id\": \"1027\", \"firstname\": \"Ferenc\", \"surname\": \"Krausz\", \"born\": \"1962-05-17\", \"died\": \"0000-00-00\", \"bornCountry\": \"Hungary\", \"bornCountryCode\": \" ... (315 characters truncated) ... \"city\": \"Garching\", \"country\": \"Germany\"}, {\"name\": \"Ludwig-Maximilians-Universit\\\\u00e4t M\\\\u00fcnchen\", \"city\": \"Munich\", \"country\": \"Germany\"}]}]}', 'specialty__984': None, 'document__985': '{\"id\": \"1028\", \"firstname\": \"Anne\", \"surname\": \"L\\\\u2019Huillier\", \"born\": \"1958-08-16\", \"died\": \"0000-00-00\", \"bornCountry\": \"France\", \"bornCountryC ... (188 characters truncated) ... lses of light for the study of electron dynamics in matter\\\\\"\", \"affiliations\": [{\"name\": \"Lund University\", \"city\": \"Lund\", \"country\": \"Sweden\"}]}]}', 'specialty__985': None, 'document__986': '{\"id\": \"1029\", \"firstname\": \"Moungi\", \"surname\": \"Bawendi\", \"born\": \"1961-00-00\", \"died\": \"0000-00-00\", \"bornCountry\": \"France\", \"bornCountryCode\": \" ... (152 characters truncated) ... ynthesis of quantum dots\\\\\"\", \"affiliations\": [{\"name\": \"Massachusetts Institute of Technology (MIT)\", \"city\": \"Cambridge, MA\", \"country\": \"USA\"}]}]}', 'specialty__986': None, 'document__987': '{\"id\": \"1030\", \"firstname\": \"Louis\", \"surname\": \"Brus\", \"born\": \"1943-00-00\", \"died\": \"0000-00-00\", \"bornCountry\": \"USA\", \"bornCountryCode\": \"US\", \"b ... (128 characters truncated) ... \\\"for the discovery and synthesis of quantum dots\\\\\"\", \"affiliations\": [{\"name\": \"Columbia University\", \"city\": \"New York, NY\", \"country\": \"USA\"}]}]}', 'specialty__987': None, 'document__988': '{\"id\": \"1031\", \"firstname\": \"Aleksey\", \"surname\": \"Yekimov\", \"born\": \"1945-00-00\", \"died\": \"0000-00-00\", \"bornCountry\": \"USSR (now Russia)\", \"bornCou ... (173 characters truncated) ...  discovery and synthesis of quantum dots\\\\\"\", \"affiliations\": [{\"name\": \"Nanocrystals Technology Inc.\", \"city\": \"New York, NY\", \"country\": \"USA\"}]}]}', 'specialty__988': None, 'document__989': '{\"id\": \"1032\", \"firstname\": \"Jon\", \"surname\": \"Fosse\", \"born\": \"1959-09-29\", \"died\": \"0000-00-00\", \"bornCountry\": \"Norway\", \"bornCountryCode\": \"NO\",  ... (77 characters truncated) ... ory\": \"literature\", \"share\": \"1\", \"motivation\": \"\\\\\"for his innovative plays and prose which give voice to the unsayable\\\\\"\", \"affiliations\": [[]]}]}', 'specialty__989': None, 'document__990': '{\"id\": \"1033\", \"firstname\": \"Narges\", \"surname\": \"Mohammadi\", \"born\": \"1972-04-21\", \"died\": \"0000-00-00\", \"bornCountry\": \"Iran\", \"bornCountryCode\": \" ... (119 characters truncated) ... on\": \"\\\\\"for her fight against the oppression of women in Iran and her fight to promote human rights and freedom for all\\\\\"\", \"affiliations\": [[]]}]}', 'specialty__990': None, 'document__991': '{\"id\": \"1034\", \"firstname\": \"Claudia\", \"surname\": \"Goldin\", \"born\": \"1946-00-00\", \"died\": \"0000-00-00\", \"bornCountry\": \"USA\", \"bornCountryCode\": \"US\" ... (163 characters truncated) ... rstanding of women\\\\u2019s labour market outcomes\\\\\"\", \"affiliations\": [{\"name\": \"Harvard University\", \"city\": \"Cambridge, MA\", \"country\": \"USA\"}]}]}', 'specialty__991': None, 'document__992': '{\"id\": \"1035\", \"firstname\": \"Victor\", \"surname\": \"Ambros\", \"born\": \"1953-12-01\", \"died\": \"0000-00-00\", \"bornCountry\": \"USA\", \"bornCountryCode\": \"US\", ... (170 characters truncated) ... le in post-transcriptional gene regulation\\\\\"\", \"affiliations\": [{\"name\": \"UMass Chan Medical School\", \"city\": \"Worcester, MA\", \"country\": \"USA\"}]}]}', 'specialty__992': None, 'document__993': '{\"id\": \"1036\", \"firstname\": \"Gary\", \"surname\": \"Ruvkun\", \"born\": \"1952-00-00\", \"died\": \"0000-00-00\", \"bornCountry\": \"USA\", \"bornCountryCode\": \"US\", \" ... (247 characters truncated) ... sachusetts General Hospital\", \"city\": \"Boston, MA\", \"country\": \"USA\"}, {\"name\": \"Harvard Medical School\", \"city\": \"Boston, MA\", \"country\": \"USA\"}]}]}', 'specialty__993': None, 'document__994': '{\"id\": \"1037\", \"firstname\": \"John\", \"surname\": \"Hopfield\", \"born\": \"1933-07-15\", \"died\": \"0000-00-00\", \"bornCountry\": \"USA\", \"bornCountryCode\": \"US\", ... (186 characters truncated) ... achine learning with artificial neural networks\\\\\"\", \"affiliations\": [{\"name\": \"Princeton University\", \"city\": \"Princeton, NJ\", \"country\": \"USA\"}]}]}', 'specialty__994': None, 'document__995': '{\"id\": \"1038\", \"firstname\": \"Geoffrey\", \"surname\": \"Hinton\", \"born\": \"1947-12-06\", \"died\": \"0000-00-00\", \"bornCountry\": \"United Kingdom\", \"bornCountr ... (192 characters truncated) ...  machine learning with artificial neural networks\\\\\"\", \"affiliations\": [{\"name\": \"University of Toronto\", \"city\": \"Toronto\", \"country\": \"Canada\"}]}]}', 'specialty__995': None, 'document__996': '{\"id\": \"1039\", \"firstname\": \"David\", \"surname\": \"Baker\", \"born\": \"1962-00-00\", \"died\": \"0000-00-00\", \"bornCountry\": \"USA\", \"bornCountryCode\": \"US\", \" ... (179 characters truncated) ... s\": [{\"name\": \"University of Washington\", \"city\": \"Seattle, WA\", \"country\": \"USA\"}, {\"name\": \"Howard Hughes Medical Institute\", \"country\": \"USA\"}]}]}', 'specialty__996': None, 'document__997': '{\"id\": \"1040\", \"firstname\": \"Demis\", \"surname\": \"Hassabis\", \"born\": \"1976-07-27\", \"died\": \"0000-00-00\", \"bornCountry\": \"United Kingdom\", \"bornCountry ... (122 characters truncated) ... otivation\": \"\\\\\"for protein structure prediction\\\\\"\", \"affiliations\": [{\"name\": \"Google DeepMind\", \"city\": \"London\", \"country\": \"United Kingdom\"}]}]}', 'specialty__997': None, 'document__998': '{\"id\": \"1041\", \"firstname\": \"John\", \"surname\": \"Jumper\", \"born\": \"1985-00-00\", \"died\": \"0000-00-00\", \"bornCountry\": \"USA\", \"bornCountryCode\": \"US\", \" ... (117 characters truncated) ... otivation\": \"\\\\\"for protein structure prediction\\\\\"\", \"affiliations\": [{\"name\": \"Google DeepMind\", \"city\": \"London\", \"country\": \"United Kingdom\"}]}]}', 'specialty__998': None, 'document__999': '{\"id\": \"1042\", \"firstname\": \"Kang\", \"surname\": \"Han\", \"born\": \"1970-11-27\", \"died\": \"0000-00-00\", \"bornCountry\": \"South Korea\", \"bornCountryCode\": \"K ... (115 characters truncated) ... \"motivation\": \"\\\\\"for her intense poetic prose that confronts historical traumas and exposes the fragility of human life\\\\\"\", \"affiliations\": [[]]}]}', 'specialty__999': None}\n",
      "2025-10-04 18:25:03,486 INFO sqlalchemy.engine.Engine INSERT INTO \"Premiados\" (specialty, document) SELECT p0::VARCHAR, p1::JSONB FROM (VALUES (%(specialty__0)s, %(document__0)s::JSONB, 0), (%(specialty__1)s, %(document__1)s::JSONB, 1), (%(specialty__2)s, %(document__2)s::JSONB, 2), (%(specialty__3)s, %(document__3)s::JSONB, 3)) AS imp_sen(p0, p1, sen_counter) ORDER BY sen_counter RETURNING \"Premiados\".id, \"Premiados\".id AS id__1\n",
      "2025-10-04 18:25:03,487 INFO sqlalchemy.engine.Engine [insertmanyvalues 2/2 (ordered)] {'document__0': '{\"id\": \"1043\", \"firstname\": \"Nihon Hidankyo\", \"born\": \"1956-08-10\", \"died\": \"0000-00-00\", \"gender\": \"org\", \"prizes\": [{\"year\": \"2024\", \"category\": \"p ... (71 characters truncated) ... ld free of nuclear weapons and for demonstrating through witness testimony that nuclear weapons must never be used again\\\\\"\", \"affiliations\": [[]]}]}', 'specialty__0': None, 'document__1': '{\"id\": \"1044\", \"firstname\": \"Daron\", \"surname\": \"Acemoglu\", \"born\": \"1967-09-03\", \"died\": \"0000-00-00\", \"bornCountry\": \"Turkey\", \"bornCountryCode\": \" ... (172 characters truncated) ... ed and affect prosperity\\\\\"\", \"affiliations\": [{\"name\": \"Massachusetts Institute of Technology (MIT)\", \"city\": \"Cambridge, MA\", \"country\": \"USA\"}]}]}', 'specialty__1': None, 'document__2': '{\"id\": \"1045\", \"firstname\": \"Simon\", \"surname\": \"Johnson\", \"born\": \"1963-00-00\", \"died\": \"0000-00-00\", \"bornCountry\": \"United Kingdom\", \"bornCountryC ... (180 characters truncated) ... ed and affect prosperity\\\\\"\", \"affiliations\": [{\"name\": \"Massachusetts Institute of Technology (MIT)\", \"city\": \"Cambridge, MA\", \"country\": \"USA\"}]}]}', 'specialty__2': None, 'document__3': '{\"id\": \"1046\", \"firstname\": \"James\", \"surname\": \"Robinson\", \"born\": \"1960-00-00\", \"died\": \"0000-00-00\", \"gender\": \"male\", \"prizes\": [{\"year\": \"2024\", ... (74 characters truncated) ... ow institutions are formed and affect prosperity\\\\\"\", \"affiliations\": [{\"name\": \"University of Chicago\", \"city\": \"Chicago, IL\", \"country\": \"USA\"}]}]}', 'specialty__3': None}\n",
      "2025-10-04 18:25:03,514 INFO sqlalchemy.engine.Engine INSERT INTO \"Premios\" (document) SELECT p0::JSONB FROM (VALUES (%(document__0)s::JSONB, 0), (%(document__1)s::JSONB, 1), (%(document__2)s::JSONB, 2), (%(document__3)s::JSONB, 3), (%(document__4)s::JSONB, 4), (%(document__5)s::JSONB, 5), (%(document__ ... 21895 characters truncated ... 675)) AS imp_sen(p0, sen_counter) ORDER BY sen_counter RETURNING \"Premios\".id, \"Premios\".id AS id__1\n",
      "2025-10-04 18:25:03,515 INFO sqlalchemy.engine.Engine [generated in 0.00609s (insertmanyvalues) 1/1 (ordered)] {'document__0': '{\"year\": \"2024\", \"category\": \"chemistry\", \"laureates\": [{\"id\": \"1039\", \"firstname\": \"David\", \"surname\": \"Baker\", \"motivation\": \"\\\\\"for computational  ... (145 characters truncated) ... \\\\\"\", \"share\": \"4\"}, {\"id\": \"1041\", \"firstname\": \"John\", \"surname\": \"Jumper\", \"motivation\": \"\\\\\"for protein structure prediction\\\\\"\", \"share\": \"4\"}]}', 'document__1': '{\"year\": \"2024\", \"category\": \"economics\", \"laureates\": [{\"id\": \"1044\", \"firstname\": \"Daron\", \"surname\": \"Acemoglu\", \"motivation\": \"\\\\\"for studies of  ... (246 characters truncated) ...  \"firstname\": \"James\", \"surname\": \"Robinson\", \"motivation\": \"\\\\\"for studies of how institutions are formed and affect prosperity\\\\\"\", \"share\": \"3\"}]}', 'document__2': '{\"year\": \"2024\", \"category\": \"literature\", \"laureates\": [{\"id\": \"1042\", \"firstname\": \"Kang\", \"surname\": \"Han\", \"motivation\": \"\\\\\"for her intense poetic prose that confronts historical traumas and exposes the fragility of human life\\\\\"\", \"share\": \"1\"}]}', 'document__3': '{\"year\": \"2024\", \"category\": \"peace\", \"laureates\": [{\"id\": \"1043\", \"motivation\": \"\\\\\"for its efforts to achieve a world free of nuclear weapons and for demonstrating through witness testimony that nuclear weapons must never be used again\\\\\"\", \"share\": \"1\", \"firstname\": \"Nihon Hidankyo\"}]}', 'document__4': '{\"year\": \"2024\", \"category\": \"physics\", \"laureates\": [{\"id\": \"1037\", \"firstname\": \"John\", \"surname\": \"Hopfield\", \"motivation\": \"\\\\\"for foundational d ... (162 characters truncated) ... ton\", \"motivation\": \"\\\\\"for foundational discoveries and inventions that enable machine learning with artificial neural networks\\\\\"\", \"share\": \"2\"}]}', 'document__5': '{\"year\": \"2024\", \"category\": \"medicine\", \"laureates\": [{\"id\": \"1035\", \"firstname\": \"Victor\", \"surname\": \"Ambros\", \"motivation\": \"\\\\\"for the discovery ... (115 characters truncated) ... Gary\", \"surname\": \"Ruvkun\", \"motivation\": \"\\\\\"for the discovery of microRNA and its role in post-transcriptional gene regulation\\\\\"\", \"share\": \"2\"}]}', 'document__6': '{\"year\": \"2023\", \"category\": \"chemistry\", \"laureates\": [{\"id\": \"1029\", \"firstname\": \"Moungi\", \"surname\": \"Bawendi\", \"motivation\": \"\\\\\"for the discove ... (193 characters truncated) ... , {\"id\": \"1031\", \"firstname\": \"Aleksey\", \"surname\": \"Yekimov\", \"motivation\": \"\\\\\"for the discovery and synthesis of quantum dots\\\\\"\", \"share\": \"3\"}]}', 'document__7': '{\"year\": \"2023\", \"category\": \"economics\", \"laureates\": [{\"id\": \"1034\", \"firstname\": \"Claudia\", \"surname\": \"Goldin\", \"motivation\": \"\\\\\"for having advanced our understanding of women\\\\u2019s labour market outcomes\\\\\"\", \"share\": \"1\"}]}', 'document__8': '{\"year\": \"2023\", \"category\": \"literature\", \"laureates\": [{\"id\": \"1032\", \"firstname\": \"Jon\", \"surname\": \"Fosse\", \"motivation\": \"\\\\\"for his innovative plays and prose which give voice to the unsayable\\\\\"\", \"share\": \"1\"}]}', 'document__9': '{\"year\": \"2023\", \"category\": \"peace\", \"laureates\": [{\"id\": \"1033\", \"firstname\": \"Narges\", \"surname\": \"Mohammadi\", \"motivation\": \"\\\\\"for her fight against the oppression of women in Iran and her fight to promote human rights and freedom for all\\\\\"\", \"share\": \"1\"}]}', 'document__10': '{\"year\": \"2023\", \"category\": \"physics\", \"laureates\": [{\"id\": \"1026\", \"firstname\": \"Pierre\", \"surname\": \"Agostini\", \"motivation\": \"\\\\\"for experimental ... (390 characters truncated) ... \"motivation\": \"\\\\\"for experimental methods that generate attosecond pulses of light for the study of electron dynamics in matter\\\\\"\", \"share\": \"3\"}]}', 'document__11': '{\"year\": \"2023\", \"category\": \"medicine\", \"laureates\": [{\"id\": \"1024\", \"firstname\": \"Katalin\", \"surname\": \"Karik\\\\u00f3\", \"motivation\": \"\\\\\"for their  ... (230 characters truncated) ... ir discoveries concerning nucleoside base modifications that enabled the development of effective mRNA vaccines against COVID-19\\\\\"\", \"share\": \"2\"}]}', 'document__12': '{\"year\": \"2022\", \"category\": \"chemistry\", \"laureates\": [{\"id\": \"1015\", \"firstname\": \"Carolyn\", \"surname\": \"Bertozzi\", \"motivation\": \"\\\\\"for the devel ... (254 characters truncated) ... irstname\": \"Barry\", \"surname\": \"Sharpless\", \"motivation\": \"\\\\\"for the development of click chemistry and bioorthogonal chemistry\\\\\"\", \"share\": \"3\"}]}', 'document__13': '{\"year\": \"2022\", \"category\": \"economics\", \"laureates\": [{\"id\": \"1021\", \"firstname\": \"Ben\", \"surname\": \"Bernanke\", \"motivation\": \"\\\\\"for research on b ... (179 characters truncated) ... \": \"3\"}, {\"id\": \"1023\", \"firstname\": \"Philip\", \"surname\": \"Dybvig\", \"motivation\": \"\\\\\"for research on banks and financial crises\\\\\"\", \"share\": \"3\"}]}', 'document__14': '{\"year\": \"2022\", \"category\": \"literature\", \"laureates\": [{\"id\": \"1017\", \"firstname\": \"Annie\", \"surname\": \"Ernaux\", \"motivation\": \"\\\\\"for the courage and clinical acuity with which she uncovers the roots, estrangements and  collective restraints of personal memory\\\\\"\", \"share\": \"1\"}]}', 'document__15': '{\"year\": \"2022\", \"category\": \"peace\", \"laureates\": [{\"id\": \"1018\", \"firstname\": \"Ales\", \"surname\": \"Bialiatski \", \"motivation\": \"\\\\\"The Peace Prize l ... (1153 characters truncated) ...  Together they demonstrate the significance of civil society for peace and democracy.\\\\\"\", \"share\": \"3\", \"firstname\": \"Center for Civil Liberties\"}]}', 'document__16': '{\"year\": \"2022\", \"category\": \"physics\", \"laureates\": [{\"id\": \"1012\", \"firstname\": \"Alain\", \"surname\": \"Aspect\", \"motivation\": \"\\\\\"for experiments wit ... (444 characters truncated) ...  experiments with entangled photons, establishing the violation of Bell inequalities and  pioneering quantum information science\\\\\"\", \"share\": \"3\"}]}', 'document__17': '{\"year\": \"2022\", \"category\": \"medicine\", \"laureates\": [{\"id\": \"1011\", \"firstname\": \"Svante\", \"surname\": \"P\\\\u00e4\\\\u00e4bo\", \"motivation\": \"\\\\\"for his discoveries concerning the genomes of extinct hominins and human evolution\\\\\"\", \"share\": \"1\"}]}', 'document__18': '{\"year\": \"2021\", \"category\": \"chemistry\", \"laureates\": [{\"id\": \"1002\", \"firstname\": \"Benjamin\", \"surname\": \"List\", \"motivation\": \"\\\\\"for the developm ... (54 characters truncated) ... {\"id\": \"1003\", \"firstname\": \"David\", \"surname\": \"MacMillan\", \"motivation\": \"\\\\\"for the development of asymmetric organocatalysis\\\\\"\", \"share\": \"2\"}]}', 'document__19': '{\"year\": \"2021\", \"category\": \"economics\", \"laureates\": [{\"id\": \"1007\", \"firstname\": \"David\", \"surname\": \"Card\", \"motivation\": \"\\\\\"for his empirical c ... (256 characters truncated) ... : \"Guido\", \"surname\": \"Imbens\", \"motivation\": \"\\\\\"for their methodological contributions to the analysis of causal relationships\\\\\"\", \"share\": \"4\"}]}', 'document__20': '{\"year\": \"2021\", \"category\": \"literature\", \"laureates\": [{\"id\": \"1004\", \"firstname\": \"Abdulrazak\", \"surname\": \"Gurnah\", \"motivation\": \"\\\\\"for his unc ... (15 characters truncated) ...  compassionate penetration of the effects of colonialism and the fate of the refugee in the gulf between cultures and continents\\\\\"\", \"share\": \"1\"}]}', 'document__21': '{\"year\": \"2021\", \"category\": \"peace\", \"laureates\": [{\"id\": \"1005\", \"firstname\": \"Maria\", \"surname\": \"Ressa\", \"motivation\": \"\\\\\"for their efforts to s ... (167 characters truncated) ...  \"motivation\": \"\\\\\"for their efforts to safeguard freedom of expression, which is a precondition for democracy and lasting peace\\\\\"\", \"share\": \"2\"}]}', 'document__22': '{\"year\": \"2021\", \"category\": \"physics\", \"overallMotivation\": \"\\\\\"for groundbreaking contributions to our understanding of complex physical systems\\\\\" ... (511 characters truncated) ... vation\": \"\\\\\"for the discovery of the interplay of disorder and fluctuations in physical systems from atomic to planetary scales\\\\\"\", \"share\": \"2\"}]}', 'document__23': '{\"year\": \"2021\", \"category\": \"medicine\", \"laureates\": [{\"id\": \"997\", \"firstname\": \"David\", \"surname\": \"Julius\", \"motivation\": \"\\\\\"for their discoveri ... (74 characters truncated) ... , \"firstname\": \"Ardem\", \"surname\": \"Patapoutian\", \"motivation\": \"\\\\\"for their discoveries of receptors for temperature and touch\\\\\"\", \"share\": \"2\"}]}', 'document__24': '{\"year\": \"2020\", \"category\": \"chemistry\", \"laureates\": [{\"id\": \"991\", \"firstname\": \"Emmanuelle\", \"surname\": \"Charpentier\", \"motivation\": \"\\\\\"for the  ... (66 characters truncated) ... d\": \"992\", \"firstname\": \"Jennifer A.\", \"surname\": \"Doudna\", \"motivation\": \"\\\\\"for the development of a method for genome editing\\\\\"\", \"share\": \"2\"}]}', 'document__25': '{\"year\": \"2020\", \"category\": \"economics\", \"laureates\": [{\"id\": \"995\", \"firstname\": \"Paul\", \"surname\": \"Milgrom\", \"motivation\": \"\\\\\"for improvements t ... (95 characters truncated) ... name\": \"Robert\", \"surname\": \"Wilson\", \"motivation\": \"\\\\\"for improvements to auction theory and inventions of new auction formats\\\\\"\", \"share\": \"2\"}]}', 'document__26': '{\"year\": \"2020\", \"category\": \"literature\", \"laureates\": [{\"id\": \"993\", \"firstname\": \"Louise\", \"surname\": \"Gl\\\\u00fcck\", \"motivation\": \"\\\\\"for her unmistakable poetic voice that with austere beauty makes individual existence universal\\\\\"\", \"share\": \"1\"}]}', 'document__27': '{\"year\": \"2020\", \"category\": \"peace\", \"laureates\": [{\"id\": \"994\", \"motivation\": \"\\\\\"for its efforts to combat hunger, for its contribution to betteri ... (65 characters truncated) ...  as a driving force in efforts to prevent the use of hunger as a weapon of war and conflict\\\\\"\", \"share\": \"1\", \"firstname\": \"World Food Programme\"}]}', 'document__28': '{\"year\": \"2020\", \"category\": \"physics\", \"laureates\": [{\"id\": \"988\", \"firstname\": \"Roger\", \"surname\": \"Penrose\", \"motivation\": \"\\\\\"for the discovery t ... (305 characters truncated) ... \": \"Andrea\", \"surname\": \"Ghez\", \"motivation\": \"\\\\\"for the discovery of a supermassive compact object at the centre of our galaxy\\\\\"\", \"share\": \"4\"}]}', 'document__29': '{\"year\": \"2020\", \"category\": \"medicine\", \"laureates\": [{\"id\": \"985\", \"firstname\": \"Harvey\", \"surname\": \"Alter\", \"motivation\": \"\\\\\"for the discovery o ... (163 characters truncated) ... \"share\": \"3\"}, {\"id\": \"987\", \"firstname\": \"Charles\", \"surname\": \"Rice\", \"motivation\": \"\\\\\"for the discovery of Hepatitis C virus\\\\\"\", \"share\": \"3\"}]}', 'document__30': '{\"year\": \"2019\", \"category\": \"chemistry\", \"laureates\": [{\"id\": \"976\", \"firstname\": \"John\", \"surname\": \"Goodenough\", \"motivation\": \"\\\\\"for the develop ... (192 characters truncated) ... : \"3\"}, {\"id\": \"978\", \"firstname\": \"Akira\", \"surname\": \"Yoshino\", \"motivation\": \"\\\\\"for the development of lithium-ion batteries\\\\\"\", \"share\": \"3\"}]}', 'document__31': '{\"year\": \"2019\", \"category\": \"economics\", \"laureates\": [{\"id\": \"982\", \"firstname\": \"Abhijit\", \"surname\": \"Banerjee\", \"motivation\": \"\\\\\"for their expe ... (235 characters truncated) ... 4\", \"firstname\": \"Michael\", \"surname\": \"Kremer\", \"motivation\": \"\\\\\"for their experimental approach to alleviating global poverty\\\\\"\", \"share\": \"3\"}]}', 'document__32': '{\"year\": \"2019\", \"category\": \"literature\", \"laureates\": [{\"id\": \"980\", \"firstname\": \"Peter\", \"surname\": \"Handke\", \"motivation\": \"\\\\\"for an influential work that with linguistic ingenuity has explored the periphery and the specificity of human experience\\\\\"\", \"share\": \"1\"}]}', 'document__33': '{\"year\": \"2019\", \"category\": \"peace\", \"laureates\": [{\"id\": \"981\", \"firstname\": \"Abiy\", \"surname\": \"Ahmed Ali\", \"motivation\": \"\\\\\"for his efforts to a ... (18 characters truncated) ... nternational cooperation, and in particular for his decisive initiative to resolve the border conflict with neighbouring Eritrea\\\\\"\", \"share\": \"1\"}]}', 'document__34': '{\"year\": \"2019\", \"category\": \"physics\", \"overallMotivation\": \"\\\\\"for contributions to our understanding of the evolution of the universe and Earth\\\\u ... (355 characters truncated) ... 975\", \"firstname\": \"Didier\", \"surname\": \"Queloz\", \"motivation\": \"\\\\\"for the discovery of an exoplanet orbiting a solar-type star\\\\\"\", \"share\": \"4\"}]}', 'document__35': '{\"year\": \"2019\", \"category\": \"medicine\", \"laureates\": [{\"id\": \"970\", \"firstname\": \"William\", \"surname\": \"Kaelin\", \"motivation\": \"\\\\\"for their discove ... (270 characters truncated) ... ame\": \"Gregg\", \"surname\": \"Semenza\", \"motivation\": \"\\\\\"for their discoveries of how cells sense and adapt to oxygen availability\\\\\"\", \"share\": \"3\"}]}', 'document__36': '{\"year\": \"2018\", \"category\": \"chemistry\", \"laureates\": [{\"id\": \"963\", \"firstname\": \"Frances H.\", \"surname\": \"Arnold\", \"motivation\": \"\\\\\"for the direc ... (196 characters truncated) ... \": \"965\", \"firstname\": \"Sir Gregory P.\", \"surname\": \"Winter\", \"motivation\": \"\\\\\"for the phage display of peptides and antibodies\\\\\"\", \"share\": \"4\"}]}', 'document__37': '{\"year\": \"2018\", \"category\": \"economics\", \"laureates\": [{\"id\": \"968\", \"firstname\": \"William D.\", \"surname\": \"Nordhaus\", \"motivation\": \"\\\\\"for integra ... (103 characters truncated) ...  \"Paul M.\", \"surname\": \"Romer\", \"motivation\": \"\\\\\"for integrating technological innovations into long-run macroeconomic analysis\\\\\"\", \"share\": \"2\"}]}', 'document__38': '{\"year\": \"2018\", \"category\": \"literature\", \"laureates\": [{\"id\": \"979\", \"firstname\": \"Olga\", \"surname\": \"Tokarczuk\", \"motivation\": \"\\\\\"for a narrative imagination that with encyclopedic passion represents the crossing of boundaries as a form of life\\\\\"\", \"share\": \"1\"}]}', 'document__39': '{\"year\": \"2018\", \"category\": \"peace\", \"laureates\": [{\"id\": \"966\", \"firstname\": \"Denis\", \"surname\": \"Mukwege\", \"motivation\": \"\\\\\"for their efforts to  ... (124 characters truncated) ...  \"surname\": \"Murad\", \"motivation\": \"\\\\\"for their efforts to end the use of sexual violence as a weapon of war and armed conflict\\\\\"\", \"share\": \"2\"}]}', 'document__40': '{\"year\": \"2018\", \"category\": \"physics\", \"overallMotivation\": \"\\\\\"for groundbreaking inventions in the field of laser physics\\\\\"\", \"laureates\": [{\"id\" ... (360 characters truncated) ... \": \"Donna\", \"surname\": \"Strickland\", \"motivation\": \"\\\\\"for their method of generating high-intensity, ultra-short optical pulses\\\\\"\", \"share\": \"4\"}]}', 'document__41': '{\"year\": \"2018\", \"category\": \"medicine\", \"laureates\": [{\"id\": \"958\", \"firstname\": \"James P.\", \"surname\": \"Allison\", \"motivation\": \"\\\\\"for their disco ... (115 characters truncated) ... Tasuku\", \"surname\": \"Honjo\", \"motivation\": \"\\\\\"for their discovery of cancer therapy by inhibition of negative immune regulation\\\\\"\", \"share\": \"2\"}]}', 'document__42': '{\"year\": \"2017\", \"category\": \"chemistry\", \"laureates\": [{\"id\": \"944\", \"firstname\": \"Jacques\", \"surname\": \"Dubochet\", \"motivation\": \"\\\\\"for developing ... (401 characters truncated) ... vation\": \"\\\\\"for developing cryo-electron microscopy for the high-resolution structure determination of biomolecules in solution\\\\\"\", \"share\": \"3\"}]}', 'document__43': '{\"year\": \"2017\", \"category\": \"economics\", \"laureates\": [{\"id\": \"949\", \"firstname\": \"Richard H.\", \"surname\": \"Thaler\", \"motivation\": \"\\\\\"for his contributions to behavioural economics\\\\\"\", \"share\": \"1\"}]}', 'document__44': '{\"year\": \"2017\", \"category\": \"literature\", \"laureates\": [{\"id\": \"947\", \"firstname\": \"Kazuo\", \"surname\": \"Ishiguro\", \"motivation\": \"\\\\\"who, in novels of great emotional force, has uncovered the abyss beneath our illusory sense of connection with the world\\\\\"\", \"share\": \"1\"}]}', 'document__45': '{\"year\": \"2017\", \"category\": \"peace\", \"laureates\": [{\"id\": \"948\", \"motivation\": \"\\\\\"for its work to draw attention to the catastrophic humanitarian c ... (69 characters truncated) ...  efforts to achieve a treaty-based prohibition of such weapons\\\\\"\", \"share\": \"1\", \"firstname\": \"International Campaign to Abolish Nuclear Weapons\"}]}', 'document__46': '{\"year\": \"2017\", \"category\": \"physics\", \"laureates\": [{\"id\": \"941\", \"firstname\": \"Rainer\", \"surname\": \"Weiss\", \"motivation\": \"\\\\\"for decisive contrib ... (318 characters truncated) ... surname\": \"Thorne\", \"motivation\": \"\\\\\"for decisive contributions to the LIGO detector and the observation of gravitational waves\\\\\"\", \"share\": \"4\"}]}', 'document__47': '{\"year\": \"2017\", \"category\": \"medicine\", \"laureates\": [{\"id\": \"938\", \"firstname\": \"Jeffrey C.\", \"surname\": \"Hall\", \"motivation\": \"\\\\\"for their discov ... (289 characters truncated) ... ichael W.\", \"surname\": \"Young\", \"motivation\": \"\\\\\"for their discoveries of molecular mechanisms controlling the circadian rhythm\\\\\"\", \"share\": \"3\"}]}', 'document__48': '{\"year\": \"2016\", \"category\": \"chemistry\", \"laureates\": [{\"id\": \"931\", \"firstname\": \"Jean-Pierre\", \"surname\": \"Sauvage\", \"motivation\": \"\\\\\"for the des ... (219 characters truncated) ... d\": \"933\", \"firstname\": \"Bernard L.\", \"surname\": \"Feringa\", \"motivation\": \"\\\\\"for the design and synthesis of molecular machines\\\\\"\", \"share\": \"3\"}]}', 'document__49': '{\"year\": \"2016\", \"category\": \"economics\", \"laureates\": [{\"id\": \"935\", \"firstname\": \"Oliver\", \"surname\": \"Hart\", \"motivation\": \"\\\\\"for their contribut ... (42 characters truncated) ... , {\"id\": \"936\", \"firstname\": \"Bengt\", \"surname\": \"Holmstr\\\\u00f6m\", \"motivation\": \"\\\\\"for their contributions to contract theory\\\\\"\", \"share\": \"2\"}]}' ... 576 parameters truncated ... 'document__626': '{\"year\": \"1910\", \"category\": \"chemistry\", \"laureates\": [{\"id\": \"169\", \"firstname\": \"Otto\", \"surname\": \"Wallach\", \"motivation\": \"\\\\\"in recognition of his services to organic chemistry and the chemical industry by his pioneer work in the field of alicyclic compounds\\\\\"\", \"share\": \"1\"}]}', 'document__627': '{\"year\": \"1910\", \"category\": \"literature\", \"laureates\": [{\"id\": \"580\", \"firstname\": \"Paul\", \"surname\": \"Heyse\", \"motivation\": \"\\\\\"as a tribute to the ... (58 characters truncated) ... s demonstrated during his long productive career as a lyric poet, dramatist, novelist and writer of world-renowned short stories\\\\\"\", \"share\": \"1\"}]}', 'document__628': '{\"year\": \"1910\", \"category\": \"peace\", \"laureates\": [{\"id\": \"477\", \"motivation\": \"\\\\\"for acting as a link between the peace societies of the various c ... (17 characters truncated) ... ping them to organize the world rallies of the international peace movement\\\\\"\", \"share\": \"1\", \"firstname\": \"Permanent International Peace Bureau\"}]}', 'document__629': '{\"year\": \"1910\", \"category\": \"physics\", \"laureates\": [{\"id\": \"15\", \"firstname\": \"Johannes Diderik\", \"surname\": \"van der Waals\", \"motivation\": \"\\\\\"for his work on the equation of state for gases and liquids\\\\\"\", \"share\": \"1\"}]}', 'document__630': '{\"year\": \"1910\", \"category\": \"medicine\", \"laureates\": [{\"id\": \"304\", \"firstname\": \"Albrecht\", \"surname\": \"Kossel\", \"motivation\": \"\\\\\"in recognition of the contributions to our knowledge of cell chemistry made through his work on proteins, including the nucleic substances\\\\\"\", \"share\": \"1\"}]}', 'document__631': '{\"year\": \"1909\", \"category\": \"chemistry\", \"laureates\": [{\"id\": \"168\", \"firstname\": \"Wilhelm\", \"surname\": \"Ostwald\", \"motivation\": \"\\\\\"in recognition  ... (7 characters truncated) ... work on catalysis and for his investigations into the fundamental principles governing chemical equilibria and rates of reaction\\\\\"\", \"share\": \"1\"}]}', 'document__632': '{\"year\": \"1909\", \"category\": \"literature\", \"laureates\": [{\"id\": \"579\", \"firstname\": \"Selma\", \"surname\": \"Lagerl\\\\u00f6f\", \"motivation\": \"\\\\\"in appreciation of the lofty idealism, vivid imagination and spiritual perception that characterize her writings\\\\\"\", \"share\": \"1\"}]}', 'document__633': '{\"year\": \"1909\", \"category\": \"peace\", \"laureates\": [{\"id\": \"475\", \"firstname\": \"Auguste\", \"surname\": \"Beernaert\", \"motivation\": \"\\\\\"for their promine ... (145 characters truncated) ... stournelles de Constant\", \"motivation\": \"\\\\\"for their prominent position in the international movement for peace and arbitration\\\\\"\", \"share\": \"2\"}]}', 'document__634': '{\"year\": \"1909\", \"category\": \"physics\", \"laureates\": [{\"id\": \"13\", \"firstname\": \"Guglielmo\", \"surname\": \"Marconi\", \"motivation\": \"\\\\\"in recognition o ... (112 characters truncated) ... erdinand\", \"surname\": \"Braun\", \"motivation\": \"\\\\\"in recognition of their contributions to the development of wireless telegraphy\\\\\"\", \"share\": \"2\"}]}', 'document__635': '{\"year\": \"1909\", \"category\": \"medicine\", \"laureates\": [{\"id\": \"303\", \"firstname\": \"Theodor\", \"surname\": \"Kocher\", \"motivation\": \"\\\\\"for his work on the physiology, pathology and surgery of the thyroid gland\\\\\"\", \"share\": \"1\"}]}', 'document__636': '{\"year\": \"1908\", \"category\": \"chemistry\", \"laureates\": [{\"id\": \"167\", \"firstname\": \"Ernest\", \"surname\": \"Rutherford\", \"motivation\": \"\\\\\"for his investigations into the disintegration of the elements, and the chemistry of radioactive substances\\\\\"\", \"share\": \"1\"}]}', 'document__637': '{\"year\": \"1908\", \"category\": \"literature\", \"laureates\": [{\"id\": \"578\", \"firstname\": \"Rudolf\", \"surname\": \"Eucken\", \"motivation\": \"\\\\\"in recognition o ... (105 characters truncated) ... h and strength in presentation with which in his numerous works he has vindicated and developed an idealistic philosophy of life\\\\\"\", \"share\": \"1\"}]}', 'document__638': '{\"year\": \"1908\", \"category\": \"peace\", \"laureates\": [{\"id\": \"473\", \"firstname\": \"Klas Pontus\", \"surname\": \"Arnoldson\", \"motivation\": \"\\\\\"for their lon ... (168 characters truncated) ... r\", \"motivation\": \"\\\\\"for their long time work for the cause of peace as politicians, peace society leaders, orators and authors\\\\\"\", \"share\": \"2\"}]}', 'document__639': '{\"year\": \"1908\", \"category\": \"physics\", \"laureates\": [{\"id\": \"12\", \"firstname\": \"Gabriel\", \"surname\": \"Lippmann\", \"motivation\": \"\\\\\"for his method of reproducing colours photographically based on the phenomenon of interference\\\\\"\", \"share\": \"1\"}]}', 'document__640': '{\"year\": \"1908\", \"category\": \"medicine\", \"laureates\": [{\"id\": \"301\", \"firstname\": \"Ilya\", \"surname\": \"Mechnikov\", \"motivation\": \"\\\\\"in recognition of ... (31 characters truncated) ... hare\": \"2\"}, {\"id\": \"302\", \"firstname\": \"Paul\", \"surname\": \"Ehrlich\", \"motivation\": \"\\\\\"in recognition of their work on immunity\\\\\"\", \"share\": \"2\"}]}', 'document__641': '{\"year\": \"1907\", \"category\": \"chemistry\", \"laureates\": [{\"id\": \"166\", \"firstname\": \"Eduard\", \"surname\": \"Buchner\", \"motivation\": \"\\\\\"for his biochemical researches and his discovery of cell-free fermentation\\\\\"\", \"share\": \"1\"}]}', 'document__642': '{\"year\": \"1907\", \"category\": \"literature\", \"laureates\": [{\"id\": \"577\", \"firstname\": \"Rudyard\", \"surname\": \"Kipling\", \"motivation\": \"\\\\\"in considerati ... (46 characters truncated) ...  imagination, virility of ideas and remarkable talent for narration which characterize the creations of this world-famous author\\\\\"\", \"share\": \"1\"}]}', 'document__643': '{\"year\": \"1907\", \"category\": \"peace\", \"laureates\": [{\"id\": \"471\", \"firstname\": \"Ernesto Teodoro\", \"surname\": \"Moneta\", \"motivation\": \"\\\\\"for his work ... (167 characters truncated) ... rname\": \"Renault\", \"motivation\": \"\\\\\"for his decisive influence upon the conduct and outcome of the Hague and Geneva Conferences\\\\\"\", \"share\": \"2\"}]}', 'document__644': '{\"year\": \"1907\", \"category\": \"physics\", \"laureates\": [{\"id\": \"11\", \"firstname\": \"Albert A.\", \"surname\": \"Michelson\", \"motivation\": \"\\\\\"for his optical precision instruments and the spectroscopic and metrological investigations carried out with their aid\\\\\"\", \"share\": \"1\"}]}', 'document__645': '{\"year\": \"1907\", \"category\": \"medicine\", \"laureates\": [{\"id\": \"300\", \"firstname\": \"Alphonse\", \"surname\": \"Laveran\", \"motivation\": \"\\\\\"in recognition of his work on the role played by protozoa in causing diseases\\\\\"\", \"share\": \"1\"}]}', 'document__646': '{\"year\": \"1906\", \"category\": \"chemistry\", \"laureates\": [{\"id\": \"165\", \"firstname\": \"Henri\", \"surname\": \"Moissan\", \"motivation\": \"\\\\\"in recognition of ... (55 characters truncated) ... n and isolation of the element fluorine, and for the adoption in the service of science of the electric furnace called after him\\\\\"\", \"share\": \"1\"}]}', 'document__647': '{\"year\": \"1906\", \"category\": \"literature\", \"laureates\": [{\"id\": \"576\", \"firstname\": \"Giosu\\\\u00e8\", \"surname\": \"Carducci\", \"motivation\": \"\\\\\"not only ... (65 characters truncated) ...  above all as a tribute to the creative energy, freshness of style, and lyrical force which characterize his poetic masterpieces\\\\\"\", \"share\": \"1\"}]}', 'document__648': '{\"year\": \"1906\", \"category\": \"peace\", \"laureates\": [{\"id\": \"470\", \"firstname\": \"Theodore\", \"surname\": \"Roosevelt\", \"motivation\": \"\\\\\"for his role in bringing to an end the bloody war recently waged between two of the world\\'s great powers, Japan and Russia\\\\\"\", \"share\": \"1\"}]}', 'document__649': '{\"year\": \"1906\", \"category\": \"physics\", \"laureates\": [{\"id\": \"10\", \"firstname\": \"J.J.\", \"surname\": \"Thomson\", \"motivation\": \"\\\\\"in recognition of the great merits of his theoretical and experimental investigations on the conduction of electricity by gases\\\\\"\", \"share\": \"1\"}]}', 'document__650': '{\"year\": \"1906\", \"category\": \"medicine\", \"laureates\": [{\"id\": \"298\", \"firstname\": \"Camillo\", \"surname\": \"Golgi\", \"motivation\": \"\\\\\"in recognition of  ... (100 characters truncated) ... ntiago\", \"surname\": \"Ram\\\\u00f3n y Cajal\", \"motivation\": \"\\\\\"in recognition of their work on the structure of the nervous system\\\\\"\", \"share\": \"2\"}]}', 'document__651': '{\"year\": \"1905\", \"category\": \"chemistry\", \"laureates\": [{\"id\": \"164\", \"firstname\": \"Adolf\", \"surname\": \"von Baeyer\", \"motivation\": \"\\\\\"in recognition ... (16 characters truncated) ...  in the advancement of organic chemistry and the chemical industry, through his work on organic dyes and hydroaromatic compounds\\\\\"\", \"share\": \"1\"}]}', 'document__652': '{\"year\": \"1905\", \"category\": \"literature\", \"laureates\": [{\"id\": \"575\", \"firstname\": \"Henryk\", \"surname\": \"Sienkiewicz\", \"motivation\": \"\\\\\"because of his outstanding merits as an epic writer\\\\\"\", \"share\": \"1\"}]}', 'document__653': '{\"year\": \"1905\", \"category\": \"peace\", \"laureates\": [{\"id\": \"468\", \"firstname\": \"Bertha\", \"surname\": \"von Suttner\", \"motivation\": \"\\\\\"for her audacity to oppose the horrors of war\\\\\"\", \"share\": \"1\"}]}', 'document__654': '{\"year\": \"1905\", \"category\": \"physics\", \"laureates\": [{\"id\": \"9\", \"firstname\": \"Philipp\", \"surname\": \"Lenard\", \"motivation\": \"\\\\\"for his work on cathode rays\\\\\"\", \"share\": \"1\"}]}', 'document__655': '{\"year\": \"1905\", \"category\": \"medicine\", \"laureates\": [{\"id\": \"297\", \"firstname\": \"Robert\", \"surname\": \"Koch\", \"motivation\": \"\\\\\"for his investigations and discoveries in relation to tuberculosis\\\\\"\", \"share\": \"1\"}]}', 'document__656': '{\"year\": \"1904\", \"category\": \"chemistry\", \"laureates\": [{\"id\": \"163\", \"firstname\": \"Sir William\", \"surname\": \"Ramsay\", \"motivation\": \"\\\\\"in recogniti ... (5 characters truncated) ...  his services in the discovery of the inert gaseous elements in air, and his determination of their place in the periodic system\\\\\"\", \"share\": \"1\"}]}', 'document__657': '{\"year\": \"1904\", \"category\": \"literature\", \"laureates\": [{\"id\": \"573\", \"firstname\": \"Fr\\\\u00e9d\\\\u00e9ric\", \"surname\": \"Mistral\", \"motivation\": \"\\\\\"i ... (370 characters truncated) ... s and brilliant compositions which, in an individual and original manner, have revived the great traditions of the Spanish drama\\\\\"\", \"share\": \"2\"}]}', 'document__658': '{\"year\": \"1904\", \"category\": \"peace\", \"laureates\": [{\"id\": \"467\", \"motivation\": \"\\\\\"for its striving in public law to develop peaceful ties between nations and to make the laws of war more humane\\\\\"\", \"share\": \"1\", \"firstname\": \"Institute of International Law\"}]}', 'document__659': '{\"year\": \"1904\", \"category\": \"physics\", \"laureates\": [{\"id\": \"8\", \"firstname\": \"Lord\", \"surname\": \"Rayleigh\", \"motivation\": \"\\\\\"for his investigations of the densities of the most important gases and for his discovery of argon in connection with these studies\\\\\"\", \"share\": \"1\"}]}', 'document__660': '{\"year\": \"1904\", \"category\": \"medicine\", \"laureates\": [{\"id\": \"296\", \"firstname\": \"Ivan\", \"surname\": \"Pavlov\", \"motivation\": \"\\\\\"in recognition of his work on the physiology of digestion, through which knowledge on vital aspects of the subject has been transformed and enlarged\\\\\"\", \"share\": \"1\"}]}', 'document__661': '{\"year\": \"1903\", \"category\": \"chemistry\", \"laureates\": [{\"id\": \"162\", \"firstname\": \"Svante\", \"surname\": \"Arrhenius\", \"motivation\": \"\\\\\"in recognition of the extraordinary services he has rendered to the advancement of chemistry by his electrolytic theory of dissociation\\\\\"\", \"share\": \"1\"}]}', 'document__662': '{\"year\": \"1903\", \"category\": \"literature\", \"laureates\": [{\"id\": \"572\", \"firstname\": \"Bj\\\\u00f8rnstjerne\", \"surname\": \"Bj\\\\u00f8rnson\", \"motivation\":  ... (47 characters truncated) ... versatile poetry, which has always been distinguished by both the freshness of its inspiration and the rare purity of its spirit\\\\\"\", \"share\": \"1\"}]}', 'document__663': '{\"year\": \"1903\", \"category\": \"peace\", \"laureates\": [{\"id\": \"466\", \"firstname\": \"Randal\", \"surname\": \"Cremer\", \"motivation\": \"\\\\\"for his longstanding and devoted effort in favour of the ideas of peace and arbitration\\\\\"\", \"share\": \"1\"}]}', 'document__664': '{\"year\": \"1903\", \"category\": \"physics\", \"laureates\": [{\"id\": \"4\", \"firstname\": \"Henri\", \"surname\": \"Becquerel\", \"motivation\": \"\\\\\"in recognition of t ... (458 characters truncated) ... rdinary services they have rendered by their joint researches on the radiation phenomena discovered by Professor Henri Becquerel\\\\\"\", \"share\": \"4\"}]}', 'document__665': '{\"year\": \"1903\", \"category\": \"medicine\", \"laureates\": [{\"id\": \"295\", \"firstname\": \"Niels Ryberg\", \"surname\": \"Finsen\", \"motivation\": \"\\\\\"in recogniti ... (41 characters truncated) ... f diseases, especially lupus vulgaris, with concentrated light radiation, whereby he has opened a new avenue for medical science\\\\\"\", \"share\": \"1\"}]}', 'document__666': '{\"year\": \"1902\", \"category\": \"chemistry\", \"laureates\": [{\"id\": \"161\", \"firstname\": \"Emil\", \"surname\": \"Fischer\", \"motivation\": \"\\\\\"in recognition of the extraordinary services he has rendered by his work on sugar and purine syntheses\\\\\"\", \"share\": \"1\"}]}', 'document__667': '{\"year\": \"1902\", \"category\": \"literature\", \"laureates\": [{\"id\": \"571\", \"firstname\": \"Theodor\", \"surname\": \"Mommsen\", \"motivation\": \"\\\\\"the greatest living master of the art of historical writing, with special reference to his monumental work, <I>A history of Rome</I>\\\\\"\", \"share\": \"1\"}]}', 'document__668': '{\"year\": \"1902\", \"category\": \"peace\", \"laureates\": [{\"id\": \"464\", \"firstname\": \"\\\\u00c9lie\", \"surname\": \"Ducommun\", \"motivation\": \"\\\\\"for his untirin ... (94 characters truncated) ... me\": \"Albert\", \"surname\": \"Gobat\", \"motivation\": \"\\\\\"for his eminently practical administration of the Inter-Parliamentary Union\\\\\"\", \"share\": \"2\"}]}', 'document__669': '{\"year\": \"1902\", \"category\": \"physics\", \"laureates\": [{\"id\": \"2\", \"firstname\": \"Hendrik A.\", \"surname\": \"Lorentz\", \"motivation\": \"\\\\\"in recognition o ... (219 characters truncated) ... ognition of the extraordinary service they rendered by their researches into the influence of magnetism upon radiation phenomena\\\\\"\", \"share\": \"2\"}]}', 'document__670': '{\"year\": \"1902\", \"category\": \"medicine\", \"laureates\": [{\"id\": \"294\", \"firstname\": \"Ronald\", \"surname\": \"Ross\", \"motivation\": \"\\\\\"for his work on mala ... (29 characters truncated) ... w it enters the organism and thereby has laid the foundation for successful research on this disease and methods of combating it\\\\\"\", \"share\": \"1\"}]}', 'document__671': '{\"year\": \"1901\", \"category\": \"chemistry\", \"laureates\": [{\"id\": \"160\", \"firstname\": \"Jacobus H.\", \"surname\": \"van \\'t Hoff\", \"motivation\": \"\\\\\"in reco ... (9 characters truncated) ... f the extraordinary services he has rendered by the discovery of the laws of chemical dynamics and osmotic pressure in solutions\\\\\"\", \"share\": \"1\"}]}', 'document__672': '{\"year\": \"1901\", \"category\": \"literature\", \"laureates\": [{\"id\": \"569\", \"firstname\": \"Sully\", \"surname\": \"Prudhomme\", \"motivation\": \"\\\\\"in special rec ... (35 characters truncated) ...  which gives evidence of lofty idealism, artistic perfection and a rare combination of the qualities of both heart and intellect\\\\\"\", \"share\": \"1\"}]}', 'document__673': '{\"year\": \"1901\", \"category\": \"peace\", \"laureates\": [{\"id\": \"462\", \"firstname\": \"Henry\", \"surname\": \"Dunant\", \"motivation\": \"\\\\\"for his humanitarian e ... (136 characters truncated) ... ric\", \"surname\": \"Passy\", \"motivation\": \"\\\\\"for his lifelong work for international peace conferences, diplomacy and arbitration\\\\\"\", \"share\": \"2\"}]}', 'document__674': '{\"year\": \"1901\", \"category\": \"physics\", \"laureates\": [{\"id\": \"1\", \"firstname\": \"Wilhelm Conrad\", \"surname\": \"R\\\\u00f6ntgen\", \"motivation\": \"\\\\\"in recognition of the extraordinary services he has rendered by the discovery of the remarkable rays subsequently named after him\\\\\"\", \"share\": \"1\"}]}', 'document__675': '{\"year\": \"1901\", \"category\": \"medicine\", \"laureates\": [{\"id\": \"293\", \"firstname\": \"Emil\", \"surname\": \"von Behring\", \"motivation\": \"\\\\\"for his work on ... (97 characters truncated) ... in the domain of medical science and thereby placed in the hands of the physician a victorious weapon against illness and deaths\\\\\"\", \"share\": \"1\"}]}'}\n",
      "2025-10-04 18:25:03,553 INFO sqlalchemy.engine.Engine COMMIT\n"
     ]
    }
   ],
   "source": [
    "entries = []\n",
    "\n",
    "for filename, key, Table in zip(\n",
    "    [\"Laureate\", \"Country\", \"prize\"],\n",
    "    [\"laureates\", \"countries\", \"prizes\"],\n",
    "    [Premiado, Pais, Premio]\n",
    "):\n",
    "    with open(f'datasets/{filename}.json', 'r', encoding='utf-8') as file:\n",
    "        items = json.load(file)[key]\n",
    "        entries += [Table(document=item) for item in items]\n",
    "\n",
    "with Session() as session:\n",
    "    session.add_all(entries)\n",
    "    session.commit()"
   ]
  },
  {
   "cell_type": "markdown",
   "id": "d927b92d-38e1-4587-945b-68b9983f07db",
   "metadata": {},
   "source": [
    "### Passo 1: Busca dos Laureados\n",
    "\n",
    "Acessa-se o documento JSON na tabela \"Premiados\" e dela se extrai o id, o nome e sobrenome de todos os Laureados."
   ]
  },
  {
   "cell_type": "code",
   "execution_count": 10,
   "id": "09051f32-fb9b-44e9-be74-fd93e604ccfe",
   "metadata": {},
   "outputs": [
    {
     "name": "stdout",
     "output_type": "stream",
     "text": [
      "2025-10-04 18:25:03,570 INFO sqlalchemy.engine.Engine BEGIN (implicit)\n",
      "2025-10-04 18:25:03,575 INFO sqlalchemy.engine.Engine SELECT \"Premiados\".id, \"Premiados\".document -> %(document_1)s AS firstname, \"Premiados\".document -> %(document_2)s AS surname \n",
      "FROM \"Premiados\"\n",
      "2025-10-04 18:25:03,576 INFO sqlalchemy.engine.Engine [generated in 0.00130s] {'document_1': 'firstname', 'document_2': 'surname'}\n",
      "2025-10-04 18:25:03,581 INFO sqlalchemy.engine.Engine ROLLBACK\n"
     ]
    }
   ],
   "source": [
    "with Session() as session:\n",
    "    stmt = select(\n",
    "        Premiado.id,\n",
    "        Premiado.document['firstname'].label('firstname'),\n",
    "        Premiado.document['surname'].label('surname')\n",
    "    )\n",
    "    result = session.execute(stmt)\n",
    "\n",
    "laureates = set(\n",
    "    (row.id, f'{row.firstname} {row.surname}')\n",
    "    for row in result\n",
    ")"
   ]
  },
  {
   "cell_type": "markdown",
   "id": "354346db-ee54-43d6-9143-0f27ec841d51",
   "metadata": {},
   "source": [
    "### Passo 2: Pareamento de especialidades com ids utilizando regex\n",
    "\n",
    "Lê-se o arquivo CSV e constrói-se um padrão regex que permite parear os nomes completos dos Laureados com os nomes dos mesmos descritos por iniciais. A partir deste se obtêm uma paridade de ids com especialidades.\n",
    "\n",
    "O padrão regex empregado é tal que, na ocorrência de iniciais da forma `A.`, onde `A` é qualuqer inicial, o caractere `.` seja subtituído por um padrão da forma `\\w+\\s*`. Em uma busca insensível a caia-alta, este padrão encontra a qualquer nome ou sobrenome iniciado por `A` ou `a` seguido de zero ou mais espaços em branco."
   ]
  },
  {
   "cell_type": "code",
   "execution_count": 11,
   "id": "6c2eb5a4-2af9-4996-aaff-c1e2a3aa775c",
   "metadata": {},
   "outputs": [],
   "source": [
    "def build_initials_regex(name: str) -> re.Pattern:\n",
    "    pattern = name.replace('.', '\\\\w+\\\\s*')\n",
    "    return re.compile(rf'^{pattern}$', re.IGNORECASE)\n",
    "\n",
    "# --- Step 2: Prepare update_params ---\n",
    "update_params = []\n",
    "with open(f'datasets/Specialties.csv', 'r', encoding='utf-8') as file:\n",
    "    for row in list(csv.DictReader(file)):\n",
    "        for laureate in laureates:\n",
    "            pattern = build_initials_regex(row['Laureate'])\n",
    "            if re.match(pattern, laureate[1]):\n",
    "                update_params.append({\n",
    "                    \"p_id\": laureate[0],\n",
    "                    \"p_specialty\": row['Specialty']\n",
    "                })\n",
    "                laureates.remove(laureate)\n",
    "                break"
   ]
  },
  {
   "cell_type": "markdown",
   "id": "a735ea33-74e3-4440-bf26-c4b1f9435ac3",
   "metadata": {},
   "source": [
    "### Passo 3: Atualização da tabela `Premiados`\n",
    "\n",
    "Acessa-se novamente o DB para atualizar a coluna \"_specialty_\" nas entradas de id correspondente."
   ]
  },
  {
   "cell_type": "code",
   "execution_count": 12,
   "id": "bcf97368-993c-4bbe-9a8c-f13a56aed986",
   "metadata": {},
   "outputs": [
    {
     "name": "stdout",
     "output_type": "stream",
     "text": [
      "2025-10-04 18:25:03,828 INFO sqlalchemy.engine.Engine BEGIN (implicit)\n",
      "2025-10-04 18:25:03,834 INFO sqlalchemy.engine.Engine UPDATE \"Premiados\" SET specialty=%(p_specialty)s WHERE \"Premiados\".id = %(p_id)s RETURNING \"Premiados\".document -> %(document_1)s AS firstname, \"Premiados\".document -> %(document_2)s AS surname, \"Premiados\".specialty\n",
      "2025-10-04 18:25:03,836 INFO sqlalchemy.engine.Engine [generated in 0.00168s] {'p_specialty': 'Cristallography', 'p_id': 747, 'document_1': 'firstname', 'document_2': 'surname'}\n",
      "✅ Updated: Name=Peter, Surname=Agre, Specialty=Cristallography\n",
      "2025-10-04 18:25:03,842 INFO sqlalchemy.engine.Engine UPDATE \"Premiados\" SET specialty=%(p_specialty)s WHERE \"Premiados\".id = %(p_id)s RETURNING \"Premiados\".document -> %(document_1)s AS firstname, \"Premiados\".document -> %(document_2)s AS surname, \"Premiados\".specialty\n",
      "2025-10-04 18:25:03,844 INFO sqlalchemy.engine.Engine [cached since 0.009859s ago] {'p_specialty': 'Cristallography', 'p_id': 237, 'document_1': 'firstname', 'document_2': 'surname'}\n",
      "✅ Updated: Name=Christian, Surname=Anfinsen, Specialty=Cristallography\n",
      "2025-10-04 18:25:03,847 INFO sqlalchemy.engine.Engine UPDATE \"Premiados\" SET specialty=%(p_specialty)s WHERE \"Premiados\".id = %(p_id)s RETURNING \"Premiados\".document -> %(document_1)s AS firstname, \"Premiados\".document -> %(document_2)s AS surname, \"Premiados\".specialty\n",
      "2025-10-04 18:25:03,847 INFO sqlalchemy.engine.Engine [cached since 0.01349s ago] {'p_specialty': 'Cristallography', 'p_id': 21, 'document_1': 'firstname', 'document_2': 'surname'}\n",
      "✅ Updated: Name=Charles Glover, Surname=Barkla, Specialty=Cristallography\n",
      "2025-10-04 18:25:03,852 INFO sqlalchemy.engine.Engine UPDATE \"Premiados\" SET specialty=%(p_specialty)s WHERE \"Premiados\".id = %(p_id)s RETURNING \"Premiados\".document -> %(document_1)s AS firstname, \"Premiados\".document -> %(document_2)s AS surname, \"Premiados\".specialty\n",
      "2025-10-04 18:25:03,853 INFO sqlalchemy.engine.Engine [cached since 0.01923s ago] {'p_specialty': 'Cristallography', 'p_id': 19, 'document_1': 'firstname', 'document_2': 'surname'}\n",
      "✅ Updated: Name=William, Surname=Bragg, Specialty=Cristallography\n",
      "2025-10-04 18:25:03,856 INFO sqlalchemy.engine.Engine UPDATE \"Premiados\" SET specialty=%(p_specialty)s WHERE \"Premiados\".id = %(p_id)s RETURNING \"Premiados\".document -> %(document_1)s AS firstname, \"Premiados\".document -> %(document_2)s AS surname, \"Premiados\".specialty\n",
      "2025-10-04 18:25:03,857 INFO sqlalchemy.engine.Engine [cached since 0.02357s ago] {'p_specialty': 'Cristallography', 'p_id': 140, 'document_1': 'firstname', 'document_2': 'surname'}\n",
      "✅ Updated: Name=Georges, Surname=Charpak, Specialty=Cristallography\n",
      "2025-10-04 18:25:03,860 INFO sqlalchemy.engine.Engine UPDATE \"Premiados\" SET specialty=%(p_specialty)s WHERE \"Premiados\".id = %(p_id)s RETURNING \"Premiados\".document -> %(document_1)s AS firstname, \"Premiados\".document -> %(document_2)s AS surname, \"Premiados\".specialty\n",
      "2025-10-04 18:25:03,861 INFO sqlalchemy.engine.Engine [cached since 0.02691s ago] {'p_specialty': 'Cristallography', 'p_id': 367, 'document_1': 'firstname', 'document_2': 'surname'}\n",
      "✅ Updated: Name=Francis, Surname=Crick, Specialty=Cristallography\n",
      "2025-10-04 18:25:03,863 INFO sqlalchemy.engine.Engine UPDATE \"Premiados\" SET specialty=%(p_specialty)s WHERE \"Premiados\".id = %(p_id)s RETURNING \"Premiados\".document -> %(document_1)s AS firstname, \"Premiados\".document -> %(document_2)s AS surname, \"Premiados\".specialty\n",
      "2025-10-04 18:25:03,864 INFO sqlalchemy.engine.Engine [cached since 0.0302s ago] {'p_specialty': 'Cristallography', 'p_id': 191, 'document_1': 'firstname', 'document_2': 'surname'}\n",
      "✅ Updated: Name=Peter, Surname=Debye, Specialty=Cristallography\n",
      "2025-10-04 18:25:03,867 INFO sqlalchemy.engine.Engine UPDATE \"Premiados\" SET specialty=%(p_specialty)s WHERE \"Premiados\".id = %(p_id)s RETURNING \"Premiados\".document -> %(document_1)s AS firstname, \"Premiados\".document -> %(document_2)s AS surname, \"Premiados\".specialty\n",
      "2025-10-04 18:25:03,868 INFO sqlalchemy.engine.Engine [cached since 0.03389s ago] {'p_specialty': 'Cristallography', 'p_id': 265, 'document_1': 'firstname', 'document_2': 'surname'}\n",
      "✅ Updated: Name=Johann, Surname=Deisenhofer, Specialty=Cristallography\n",
      "2025-10-04 18:25:03,870 INFO sqlalchemy.engine.Engine UPDATE \"Premiados\" SET specialty=%(p_specialty)s WHERE \"Premiados\".id = %(p_id)s RETURNING \"Premiados\".document -> %(document_1)s AS firstname, \"Premiados\".document -> %(document_2)s AS surname, \"Premiados\".specialty\n",
      "2025-10-04 18:25:03,872 INFO sqlalchemy.engine.Engine [cached since 0.03818s ago] {'p_specialty': 'Cristallography', 'p_id': 824, 'document_1': 'firstname', 'document_2': 'surname'}\n",
      "✅ Updated: Name=Andre, Surname=Geim, Specialty=Cristallography\n",
      "2025-10-04 18:25:03,876 INFO sqlalchemy.engine.Engine UPDATE \"Premiados\" SET specialty=%(p_specialty)s WHERE \"Premiados\".id = %(p_id)s RETURNING \"Premiados\".document -> %(document_1)s AS firstname, \"Premiados\".document -> %(document_2)s AS surname, \"Premiados\".specialty\n",
      "2025-10-04 18:25:03,876 INFO sqlalchemy.engine.Engine [cached since 0.04251s ago] {'p_specialty': 'Cristallography', 'p_id': 226, 'document_1': 'firstname', 'document_2': 'surname'}\n",
      "✅ Updated: Name=Dorothy Crowfoot, Surname=Hodgkin, Specialty=Cristallography\n",
      "2025-10-04 18:25:03,880 INFO sqlalchemy.engine.Engine UPDATE \"Premiados\" SET specialty=%(p_specialty)s WHERE \"Premiados\".id = %(p_id)s RETURNING \"Premiados\".document -> %(document_1)s AS firstname, \"Premiados\".document -> %(document_2)s AS surname, \"Premiados\".specialty\n",
      "2025-10-04 18:25:03,882 INFO sqlalchemy.engine.Engine [cached since 0.04828s ago] {'p_specialty': 'Cristallography', 'p_id': 266, 'document_1': 'firstname', 'document_2': 'surname'}\n",
      "✅ Updated: Name=Robert, Surname=Huber, Specialty=Cristallography\n",
      "2025-10-04 18:25:03,887 INFO sqlalchemy.engine.Engine UPDATE \"Premiados\" SET specialty=%(p_specialty)s WHERE \"Premiados\".id = %(p_id)s RETURNING \"Premiados\".document -> %(document_1)s AS firstname, \"Premiados\".document -> %(document_2)s AS surname, \"Premiados\".specialty\n",
      "2025-10-04 18:25:03,889 INFO sqlalchemy.engine.Engine [cached since 0.05531s ago] {'p_specialty': 'Cristallography', 'p_id': 956, 'document_1': 'firstname', 'document_2': 'surname'}\n",
      "✅ Updated: Name=David, Surname=Julius, Specialty=Cristallography\n",
      "2025-10-04 18:25:03,894 INFO sqlalchemy.engine.Engine UPDATE \"Premiados\" SET specialty=%(p_specialty)s WHERE \"Premiados\".id = %(p_id)s RETURNING \"Premiados\".document -> %(document_1)s AS firstname, \"Premiados\".document -> %(document_2)s AS surname, \"Premiados\".specialty\n",
      "2025-10-04 18:25:03,895 INFO sqlalchemy.engine.Engine [cached since 0.06103s ago] {'p_specialty': 'Cristallography', 'p_id': 258, 'document_1': 'firstname', 'document_2': 'surname'}\n",
      "✅ Updated: Name=Jerome, Surname=Karle, Specialty=Cristallography\n",
      "2025-10-04 18:25:03,898 INFO sqlalchemy.engine.Engine UPDATE \"Premiados\" SET specialty=%(p_specialty)s WHERE \"Premiados\".id = %(p_id)s RETURNING \"Premiados\".document -> %(document_1)s AS firstname, \"Premiados\".document -> %(document_2)s AS surname, \"Premiados\".specialty\n",
      "2025-10-04 18:25:03,903 INFO sqlalchemy.engine.Engine [cached since 0.06883s ago] {'p_specialty': 'Cristallography', 'p_id': 862, 'document_1': 'firstname', 'document_2': 'surname'}\n",
      "✅ Updated: Name=Martin, Surname=Karplus, Specialty=Cristallography\n",
      "2025-10-04 18:25:03,910 INFO sqlalchemy.engine.Engine UPDATE \"Premiados\" SET specialty=%(p_specialty)s WHERE \"Premiados\".id = %(p_id)s RETURNING \"Premiados\".document -> %(document_1)s AS firstname, \"Premiados\".document -> %(document_2)s AS surname, \"Premiados\".specialty\n",
      "2025-10-04 18:25:03,911 INFO sqlalchemy.engine.Engine [cached since 0.07672s ago] {'p_specialty': 'Cristallography', 'p_id': 254, 'document_1': 'firstname', 'document_2': 'surname'}\n",
      "✅ Updated: Name=Aaron, Surname=Klug, Specialty=Cristallography\n",
      "2025-10-04 18:25:03,915 INFO sqlalchemy.engine.Engine UPDATE \"Premiados\" SET specialty=%(p_specialty)s WHERE \"Premiados\".id = %(p_id)s RETURNING \"Premiados\".document -> %(document_1)s AS firstname, \"Premiados\".document -> %(document_2)s AS surname, \"Premiados\".specialty\n",
      "2025-10-04 18:25:03,916 INFO sqlalchemy.engine.Engine [cached since 0.08188s ago] {'p_specialty': 'Cristallography', 'p_id': 852, 'document_1': 'firstname', 'document_2': 'surname'}\n",
      "✅ Updated: Name=Brian, Surname=Kobilka, Specialty=Cristallography\n",
      "2025-10-04 18:25:03,923 INFO sqlalchemy.engine.Engine UPDATE \"Premiados\" SET specialty=%(p_specialty)s WHERE \"Premiados\".id = %(p_id)s RETURNING \"Premiados\".document -> %(document_1)s AS firstname, \"Premiados\".document -> %(document_2)s AS surname, \"Premiados\".specialty\n",
      "2025-10-04 18:25:03,925 INFO sqlalchemy.engine.Engine [cached since 0.09122s ago] {'p_specialty': 'Cristallography', 'p_id': 863, 'document_1': 'firstname', 'document_2': 'surname'}\n",
      "✅ Updated: Name=Michael, Surname=Levitt, Specialty=Cristallography\n",
      "2025-10-04 18:25:03,929 INFO sqlalchemy.engine.Engine UPDATE \"Premiados\" SET specialty=%(p_specialty)s WHERE \"Premiados\".id = %(p_id)s RETURNING \"Premiados\".document -> %(document_1)s AS firstname, \"Premiados\".document -> %(document_2)s AS surname, \"Premiados\".specialty\n",
      "2025-10-04 18:25:03,930 INFO sqlalchemy.engine.Engine [cached since 0.09647s ago] {'p_specialty': 'Cristallography', 'p_id': 748, 'document_1': 'firstname', 'document_2': 'surname'}\n",
      "✅ Updated: Name=Roderick, Surname=MacKinnon, Specialty=Cristallography\n",
      "2025-10-04 18:25:03,935 INFO sqlalchemy.engine.Engine UPDATE \"Premiados\" SET specialty=%(p_specialty)s WHERE \"Premiados\".id = %(p_id)s RETURNING \"Premiados\".document -> %(document_1)s AS firstname, \"Premiados\".document -> %(document_2)s AS surname, \"Premiados\".specialty\n",
      "2025-10-04 18:25:03,936 INFO sqlalchemy.engine.Engine [cached since 0.1024s ago] {'p_specialty': 'Cristallography', 'p_id': 267, 'document_1': 'firstname', 'document_2': 'surname'}\n",
      "✅ Updated: Name=Hartmut, Surname=Michel, Specialty=Cristallography\n",
      "2025-10-04 18:25:03,943 INFO sqlalchemy.engine.Engine UPDATE \"Premiados\" SET specialty=%(p_specialty)s WHERE \"Premiados\".id = %(p_id)s RETURNING \"Premiados\".document -> %(document_1)s AS firstname, \"Premiados\".document -> %(document_2)s AS surname, \"Premiados\".specialty\n",
      "2025-10-04 18:25:03,944 INFO sqlalchemy.engine.Engine [cached since 0.1104s ago] {'p_specialty': 'Cristallography', 'p_id': 825, 'document_1': 'firstname', 'document_2': 'surname'}\n",
      "✅ Updated: Name=Konstantin, Surname=Novoselov, Specialty=Cristallography\n",
      "2025-10-04 18:25:03,947 INFO sqlalchemy.engine.Engine UPDATE \"Premiados\" SET specialty=%(p_specialty)s WHERE \"Premiados\".id = %(p_id)s RETURNING \"Premiados\".document -> %(document_1)s AS firstname, \"Premiados\".document -> %(document_2)s AS surname, \"Premiados\".specialty\n",
      "2025-10-04 18:25:03,948 INFO sqlalchemy.engine.Engine [cached since 0.1141s ago] {'p_specialty': 'Cristallography', 'p_id': 957, 'document_1': 'firstname', 'document_2': 'surname'}\n",
      "✅ Updated: Name=Ardem, Surname=Patapoutian, Specialty=Cristallography\n",
      "2025-10-04 18:25:03,953 INFO sqlalchemy.engine.Engine UPDATE \"Premiados\" SET specialty=%(p_specialty)s WHERE \"Premiados\".id = %(p_id)s RETURNING \"Premiados\".document -> %(document_1)s AS firstname, \"Premiados\".document -> %(document_2)s AS surname, \"Premiados\".specialty\n",
      "2025-10-04 18:25:03,955 INFO sqlalchemy.engine.Engine [cached since 0.1212s ago] {'p_specialty': 'Cristallography', 'p_id': 213, 'document_1': 'firstname', 'document_2': 'surname'}\n",
      "✅ Updated: Name=Linus, Surname=Pauling, Specialty=Cristallography\n",
      "2025-10-04 18:25:03,959 INFO sqlalchemy.engine.Engine UPDATE \"Premiados\" SET specialty=%(p_specialty)s WHERE \"Premiados\".id = %(p_id)s RETURNING \"Premiados\".document -> %(document_1)s AS firstname, \"Premiados\".document -> %(document_2)s AS surname, \"Premiados\".specialty\n",
      "2025-10-04 18:25:03,960 INFO sqlalchemy.engine.Engine [cached since 0.1258s ago] {'p_specialty': 'Cristallography', 'p_id': 816, 'document_1': 'firstname', 'document_2': 'surname'}\n",
      "✅ Updated: Name=Venkatraman, Surname=Ramakrishnan, Specialty=Cristallography\n",
      "2025-10-04 18:25:03,963 INFO sqlalchemy.engine.Engine UPDATE \"Premiados\" SET specialty=%(p_specialty)s WHERE \"Premiados\".id = %(p_id)s RETURNING \"Premiados\".document -> %(document_1)s AS firstname, \"Premiados\".document -> %(document_2)s AS surname, \"Premiados\".specialty\n",
      "2025-10-04 18:25:03,964 INFO sqlalchemy.engine.Engine [cached since 0.1305s ago] {'p_specialty': 'Cristallography', 'p_id': 1, 'document_1': 'firstname', 'document_2': 'surname'}\n",
      "✅ Updated: Name=Wilhelm Conrad, Surname=Röntgen, Specialty=Cristallography\n",
      "2025-10-04 18:25:03,968 INFO sqlalchemy.engine.Engine UPDATE \"Premiados\" SET specialty=%(p_specialty)s WHERE \"Premiados\".id = %(p_id)s RETURNING \"Premiados\".document -> %(document_1)s AS firstname, \"Premiados\".document -> %(document_2)s AS surname, \"Premiados\".specialty\n",
      "2025-10-04 18:25:03,970 INFO sqlalchemy.engine.Engine [cached since 0.1361s ago] {'p_specialty': 'Cristallography', 'p_id': 898, 'document_1': 'firstname', 'document_2': 'surname'}\n",
      "✅ Updated: Name=Jean-Pierre, Surname=Sauvage, Specialty=Cristallography\n",
      "2025-10-04 18:25:03,975 INFO sqlalchemy.engine.Engine UPDATE \"Premiados\" SET specialty=%(p_specialty)s WHERE \"Premiados\".id = %(p_id)s RETURNING \"Premiados\".document -> %(document_1)s AS firstname, \"Premiados\".document -> %(document_2)s AS surname, \"Premiados\".specialty\n",
      "2025-10-04 18:25:03,976 INFO sqlalchemy.engine.Engine [cached since 0.1423s ago] {'p_specialty': 'Cristallography', 'p_id': 840, 'document_1': 'firstname', 'document_2': 'surname'}\n",
      "✅ Updated: Name=Dan, Surname=Shechtman, Specialty=Cristallography\n",
      "2025-10-04 18:25:03,981 INFO sqlalchemy.engine.Engine UPDATE \"Premiados\" SET specialty=%(p_specialty)s WHERE \"Premiados\".id = %(p_id)s RETURNING \"Premiados\".document -> %(document_1)s AS firstname, \"Premiados\".document -> %(document_2)s AS surname, \"Premiados\".specialty\n",
      "2025-10-04 18:25:03,982 INFO sqlalchemy.engine.Engine [cached since 0.1476s ago] {'p_specialty': 'Cristallography', 'p_id': 44, 'document_1': 'firstname', 'document_2': 'surname'}\n",
      "✅ Updated: Name=George Paget, Surname=Thomson, Specialty=Cristallography\n",
      "2025-10-04 18:25:03,986 INFO sqlalchemy.engine.Engine UPDATE \"Premiados\" SET specialty=%(p_specialty)s WHERE \"Premiados\".id = %(p_id)s RETURNING \"Premiados\".document -> %(document_1)s AS firstname, \"Premiados\".document -> %(document_2)s AS surname, \"Premiados\".specialty\n",
      "2025-10-04 18:25:03,987 INFO sqlalchemy.engine.Engine [cached since 0.1533s ago] {'p_specialty': 'Cristallography', 'p_id': 864, 'document_1': 'firstname', 'document_2': 'surname'}\n",
      "✅ Updated: Name=Arieh, Surname=Warshel, Specialty=Cristallography\n",
      "2025-10-04 18:25:03,992 INFO sqlalchemy.engine.Engine UPDATE \"Premiados\" SET specialty=%(p_specialty)s WHERE \"Premiados\".id = %(p_id)s RETURNING \"Premiados\".document -> %(document_1)s AS firstname, \"Premiados\".document -> %(document_2)s AS surname, \"Premiados\".specialty\n",
      "2025-10-04 18:25:03,993 INFO sqlalchemy.engine.Engine [cached since 0.1587s ago] {'p_specialty': 'Genetics', 'p_id': 894, 'document_1': 'firstname', 'document_2': 'surname'}\n",
      "✅ Updated: Name=Yoshinori, Surname=Ohsumi, Specialty=Genetics\n",
      "2025-10-04 18:25:03,996 INFO sqlalchemy.engine.Engine UPDATE \"Premiados\" SET specialty=%(p_specialty)s WHERE \"Premiados\".id = %(p_id)s RETURNING \"Premiados\".document -> %(document_1)s AS firstname, \"Premiados\".document -> %(document_2)s AS surname, \"Premiados\".specialty\n",
      "2025-10-04 18:25:03,997 INFO sqlalchemy.engine.Engine [cached since 0.1635s ago] {'p_specialty': 'Genetics', 'p_id': 805, 'document_1': 'firstname', 'document_2': 'surname'}\n",
      "✅ Updated: Name=Martin, Surname=Chalfie, Specialty=Genetics\n",
      "2025-10-04 18:25:04,001 INFO sqlalchemy.engine.Engine UPDATE \"Premiados\" SET specialty=%(p_specialty)s WHERE \"Premiados\".id = %(p_id)s RETURNING \"Premiados\".document -> %(document_1)s AS firstname, \"Premiados\".document -> %(document_2)s AS surname, \"Premiados\".specialty\n",
      "2025-10-04 18:25:04,003 INFO sqlalchemy.engine.Engine [cached since 0.1687s ago] {'p_specialty': 'Genetics', 'p_id': 788, 'document_1': 'firstname', 'document_2': 'surname'}\n",
      "✅ Updated: Name=Oliver, Surname=Smithies, Specialty=Genetics\n",
      "2025-10-04 18:25:04,007 INFO sqlalchemy.engine.Engine UPDATE \"Premiados\" SET specialty=%(p_specialty)s WHERE \"Premiados\".id = %(p_id)s RETURNING \"Premiados\".document -> %(document_1)s AS firstname, \"Premiados\".document -> %(document_2)s AS surname, \"Premiados\".specialty\n",
      "2025-10-04 18:25:04,010 INFO sqlalchemy.engine.Engine [cached since 0.1762s ago] {'p_specialty': 'Genetics', 'p_id': 728, 'document_1': 'firstname', 'document_2': 'surname'}\n",
      "✅ Updated: Name=Sydney, Surname=Brenner, Specialty=Genetics\n",
      "2025-10-04 18:25:04,013 INFO sqlalchemy.engine.Engine UPDATE \"Premiados\" SET specialty=%(p_specialty)s WHERE \"Premiados\".id = %(p_id)s RETURNING \"Premiados\".document -> %(document_1)s AS firstname, \"Premiados\".document -> %(document_2)s AS surname, \"Premiados\".specialty\n",
      "2025-10-04 18:25:04,014 INFO sqlalchemy.engine.Engine [cached since 0.1797s ago] {'p_specialty': 'Genetics', 'p_id': 423, 'document_1': 'firstname', 'document_2': 'surname'}\n",
      "✅ Updated: Name=Barbara, Surname=McClintock, Specialty=Genetics\n",
      "2025-10-04 18:25:04,016 INFO sqlalchemy.engine.Engine UPDATE \"Premiados\" SET specialty=%(p_specialty)s WHERE \"Premiados\".id = %(p_id)s RETURNING \"Premiados\".document -> %(document_1)s AS firstname, \"Premiados\".document -> %(document_2)s AS surname, \"Premiados\".specialty\n",
      "2025-10-04 18:25:04,019 INFO sqlalchemy.engine.Engine [cached since 0.1848s ago] {'p_specialty': 'Genetics', 'p_id': 361, 'document_1': 'firstname', 'document_2': 'surname'}\n",
      "✅ Updated: Name=Joshua, Surname=Lederberg, Specialty=Genetics\n",
      "2025-10-04 18:25:04,024 INFO sqlalchemy.engine.Engine UPDATE \"Premiados\" SET specialty=%(p_specialty)s WHERE \"Premiados\".id = %(p_id)s RETURNING \"Premiados\".document -> %(document_1)s AS firstname, \"Premiados\".document -> %(document_2)s AS surname, \"Premiados\".specialty\n",
      "2025-10-04 18:25:04,025 INFO sqlalchemy.engine.Engine [cached since 0.1911s ago] {'p_specialty': 'Otolaryngology', 'p_id': 366, 'document_1': 'firstname', 'document_2': 'surname'}\n",
      "✅ Updated: Name=Georg, Surname=von Békésy, Specialty=Otolaryngology\n",
      "2025-10-04 18:25:04,027 INFO sqlalchemy.engine.Engine COMMIT\n",
      "✅ Updated 35 records.\n"
     ]
    }
   ],
   "source": [
    "with Session() as session:\n",
    "    for params in update_params:\n",
    "        stmt = (\n",
    "            update(Premiado)\n",
    "            .where(Premiado.id == bindparam('p_id'))\n",
    "            .values(\n",
    "                specialty=bindparam('p_specialty')\n",
    "            )\n",
    "            .returning(\n",
    "                Premiado.document['firstname'].label('firstname'),\n",
    "                Premiado.document['surname'].label('surname'),\n",
    "                Premiado.specialty\n",
    "            )\n",
    "        )\n",
    "        result = session.execute(stmt, params).first()\n",
    "        print(f\"✅ Updated: Name={result.firstname}, Surname={result.surname}, Specialty={result.specialty}\")\n",
    "    session.commit()\n",
    "    print(f\"✅ Updated {len(update_params)} records.\")"
   ]
  },
  {
   "cell_type": "markdown",
   "id": "b1ff3c94-c409-45d5-81a9-73b179189e2d",
   "metadata": {},
   "source": [
    "## "
   ]
  }
 ],
 "metadata": {
  "kernelspec": {
   "display_name": "Python 3 (ipykernel)",
   "language": "python",
   "name": "python3"
  },
  "language_info": {
   "codemirror_mode": {
    "name": "ipython",
    "version": 3
   },
   "file_extension": ".py",
   "mimetype": "text/x-python",
   "name": "python",
   "nbconvert_exporter": "python",
   "pygments_lexer": "ipython3",
   "version": "3.12.11"
  }
 },
 "nbformat": 4,
 "nbformat_minor": 5
}
