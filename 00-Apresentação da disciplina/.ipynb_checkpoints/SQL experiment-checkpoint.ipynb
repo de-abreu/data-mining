{
 "cells": [
  {
   "cell_type": "code",
   "execution_count": 6,
   "id": "85e48fcc-469d-4a35-a6c1-bbafe28177b4",
   "metadata": {},
   "outputs": [],
   "source": [
    "from sqlalchemy import create_engine\n",
    "from sqlalchemy.orm import declarative_base, sessionmaker\n",
    "\n",
    "engine = create_engine(\"sqlite:///Alunos15.db\", echo=True)\n",
    "Session = sessionmaker(bind=engine)\n",
    "session = Session()\n",
    "Base = declarative_base()"
   ]
  },
  {
   "cell_type": "code",
   "execution_count": 4,
   "id": "17855e82-7d3d-4f84-b65a-eabb878b4fa4",
   "metadata": {},
   "outputs": [
    {
     "name": "stdout",
     "output_type": "stream",
     "text": [
      "2025-08-12 21:29:55,535 INFO sqlalchemy.engine.Engine BEGIN (implicit)\n",
      "2025-08-12 21:29:55,539 INFO sqlalchemy.engine.Engine PRAGMA main.table_info(\"users\")\n",
      "2025-08-12 21:29:55,542 INFO sqlalchemy.engine.Engine [raw sql] ()\n",
      "2025-08-12 21:29:55,545 INFO sqlalchemy.engine.Engine COMMIT\n"
     ]
    }
   ],
   "source": [
    "from sqlalchemy.orm import Mapped, relationship, mapped_column as column\n",
    "from sqlalchemy import String, CheckConstraint as constraint\n",
    "from typing import Any, Optional\n",
    "from typing_extensions import Annotated\n",
    "\n",
    "def defaultPrimaryKey() -> Mapped[int]:\n",
    "    return column(Integer, autoincrement=True, primary_key=True)\n",
    "\n",
    "def parentPrimaryKey(parent: str) -> Mapped[Any]:\n",
    "    return column(fk(f\"{parent}.id\"), primary_key=True)\n",
    "\n",
    "def digits(name: str) -> constraint:\n",
    "    return constraint(f\"{name} ~ '^[0-9]+$'\", name=f\"check_{name}\")\n",
    "\n",
    "def backref(back_populates: str) -> Mapped[Any]:\n",
    "    return relationship(back_populates=back_populates)\n",
    "\n",
    "def childOf(back_populates: str) -> Mapped[Any]:\n",
    "    return relationship(\n",
    "        back_populates=back_populates,\n",
    "        cascade=\"all, delete-orphan\",\n",
    "    )\n",
    "\n",
    "class BaseModel(Base):\n",
    "    __abstract__: bool = True\n",
    "    __allow_unmapped__: bool = True\n",
    "    __tablename__: str\n",
    "\n",
    "    created: Mapped[TIME] = column(server_default=now())\n",
    "    updated: Mapped[TIME] = column(server_default=now(), onupdate=now())\n",
    "    comments: Mapped[str | None]\n",
    "\n",
    "    @classmethod\n",
    "    def __init_subclass__(cls, **kwargs: Any) -> None:\n",
    "        \"\"\"\n",
    "        Create tables with names derived from the classes that originated them.\n",
    "        \"\"\"\n",
    "        super().__init_subclass__(**kwargs)\n",
    "        cls.__tablename__ = camelToSnake(cls.__name__)\n",
    "\n",
    "\n",
    "class Person(BaseModel):\n",
    "    cpf: Mapped[str] = column(String(14), primary_key=True)\n",
    "    name: Mapped[str] = column(String(40))\n",
    "    age: Mapped[int | None] = column(\n",
    "        constraint('age >= 0 AND age < 200', name='check_age_range')\n",
    "    )\n",
    "    city: Mapped[str | None] = column(String(30))\n",
    "\n",
    "    # Relationships\n",
    "    student: Mapped[Optional[\"Student\"]] = childOf(\"person\")\n",
    "    professor: Mapped[Optional[\"Professor\"]] = childOf(\"person\")\n",
    "    \n",
    "\n",
    "def Professor(Base):\n",
    "    cpf: Mapped[str] = parentPrimaryKey(\"person\")\n",
    "    id: Mapped[str] = column(String(7), unique=True)\n",
    "    level: Mapped[str] = column(String(7))\n",
    "    \n",
    "    \n",
    "    \n",
    "\n",
    "class User(Base):\n",
    "    __tablename__ = \"users\"\n",
    "    id: Mapped[int] = defaultPrimaryKey()\n",
    "    name : Mapped[str]\n",
    "    age : Mapped[int] = column(\n",
    "        constraint('age >= 0 AND age < 200', name='check_age_range')\n",
    "    )\n",
    "\n",
    "Base.metadata.create_all(engine)"
   ]
  },
  {
   "cell_type": "code",
   "execution_count": 7,
   "id": "fa03ced2-ff9b-4625-a59d-dbbf9668bc16",
   "metadata": {},
   "outputs": [
    {
     "name": "stdout",
     "output_type": "stream",
     "text": [
      "2025-08-12 21:35:11,422 INFO sqlalchemy.engine.Engine BEGIN (implicit)\n",
      "2025-08-12 21:35:11,427 INFO sqlalchemy.engine.Engine INSERT INTO users (name, age) VALUES (?, ?)\n",
      "2025-08-12 21:35:11,431 INFO sqlalchemy.engine.Engine [generated in 0.00516s] ('John Doe', 30)\n",
      "2025-08-12 21:35:11,438 INFO sqlalchemy.engine.Engine COMMIT\n"
     ]
    }
   ],
   "source": [
    "user = User(name=\"John Doe\", age=30)\n",
    "session.add(user)\n",
    "session.commit()"
   ]
  },
  {
   "cell_type": "code",
   "execution_count": null,
   "id": "f77dcbad-c529-42e7-bdff-1077f39161f3",
   "metadata": {},
   "outputs": [],
   "source": []
  }
 ],
 "metadata": {
  "kernelspec": {
   "display_name": "Python 3 (ipykernel)",
   "language": "python",
   "name": "python3"
  },
  "language_info": {
   "codemirror_mode": {
    "name": "ipython",
    "version": 3
   },
   "file_extension": ".py",
   "mimetype": "text/x-python",
   "name": "python",
   "nbconvert_exporter": "python",
   "pygments_lexer": "ipython3",
   "version": "3.12.11"
  }
 },
 "nbformat": 4,
 "nbformat_minor": 5
}
